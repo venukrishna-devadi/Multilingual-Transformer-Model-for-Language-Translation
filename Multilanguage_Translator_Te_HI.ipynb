{
 "cells": [
  {
   "cell_type": "code",
   "execution_count": 89,
   "metadata": {},
   "outputs": [],
   "source": [
    "import numpy as np\n",
    "import torch\n",
    "import torch.nn as nn\n",
    "import torch.nn.functional as F\n",
    "import math\n",
    "import torch.optim as optim\n",
    "from tqdm import tqdm\n",
    "import os\n",
    "import pandas as pd\n",
    "import matplotlib.pyplot as plt\n"
   ]
  },
  {
   "cell_type": "code",
   "execution_count": 2,
   "metadata": {},
   "outputs": [],
   "source": [
    "d_model = 256\n",
    "num_heads = 4\n",
    "num_layers = 2\n",
    "drop_prob = 0.1\n",
    "learning_rate = 0.001\n",
    "batch_size = 32\n",
    "num_epochs = 3\n",
    "max_seq_length = 300\n",
    "ffn_hidden = 1024\n",
    "device = torch.device(\"cuda\" if torch.cuda.is_available() else \"cpu\") # if there is one"
   ]
  },
  {
   "cell_type": "code",
   "execution_count": 3,
   "metadata": {},
   "outputs": [
    {
     "data": {
      "text/plain": [
       "256"
      ]
     },
     "execution_count": 3,
     "metadata": {},
     "output_type": "execute_result"
    }
   ],
   "source": [
    "d_model"
   ]
  },
  {
   "cell_type": "code",
   "execution_count": 4,
   "metadata": {},
   "outputs": [
    {
     "name": "stdout",
     "output_type": "stream",
     "text": [
      "Using device: cpu\n",
      "Number of threads PyTorch will use: 11\n"
     ]
    }
   ],
   "source": [
    "# Get the number of CPU cores\n",
    "num_cores = os.cpu_count()\n",
    "\n",
    "# Set PyTorch to use all available CPU threads\n",
    "torch.set_num_threads(num_cores)\n",
    "\n",
    "device = \"cuda\" if torch.cuda.is_available() else \"cpu\"\n",
    "print(f\"Using device: {device}\")\n",
    "\n",
    "# Set the number of threads explicitly\n",
    "print(f\"Number of threads PyTorch will use: {torch.get_num_threads()}\")"
   ]
  },
  {
   "cell_type": "code",
   "execution_count": 5,
   "metadata": {},
   "outputs": [],
   "source": [
    "\n",
    "class PositionwiseFeedForward(nn.Module):\n",
    "\n",
    "    def __init__(self, d_model, hidden, drop_prob=0.1):\n",
    "        super().__init__()\n",
    "        self.linear1 = nn.Linear(d_model, hidden).to(device)  # Move layer to device\n",
    "        self.linear2 = nn.Linear(hidden, d_model).to(device)  # Move layer to device\n",
    "        self.relu = nn.ReLU().to(device)  # Move activation to device\n",
    "        self.dropout = nn.Dropout(p=drop_prob).to(device)  # Move dropout to device\n",
    "\n",
    "    def forward(self, x):\n",
    "        x = x.to(device)  # Move input to device\n",
    "        x = self.linear1(x)\n",
    "        # print(f\"x after first linear layer: {x.size()}\")\n",
    "        x = self.relu(x)\n",
    "        # print(f\"x after activation: {x.size()}\")\n",
    "        x = self.dropout(x)\n",
    "        # print(f\"x after dropout: {x.size()}\")\n",
    "        x = self.linear2(x)\n",
    "        # print(f\"x after 2nd linear layer: {x.size()}\")\n",
    "        return x"
   ]
  },
  {
   "cell_type": "code",
   "execution_count": 6,
   "metadata": {},
   "outputs": [],
   "source": [
    "\n",
    "class PositionEncoding(nn.Module):\n",
    "    def __init__(self, d_model, max_seq_length):\n",
    "        super().__init__()\n",
    "        self.max_seq_length = max_seq_length\n",
    "        self.d_model = d_model\n",
    "\n",
    "        # Compute the position encodings\n",
    "        even_i = torch.arange(0, d_model, 2).float().to(device)\n",
    "        denominator = torch.pow(10000, even_i / d_model).to(device)\n",
    "        position = torch.arange(max_seq_length).reshape(max_seq_length, 1).to(device)\n",
    "        even_PE = torch.sin(position / denominator)\n",
    "        odd_PE = torch.cos(position / denominator)\n",
    "        stacked = torch.stack([even_PE, odd_PE], dim=2).to(device)\n",
    "        self.position_encoding = torch.flatten(stacked, start_dim=1, end_dim=2)  # Shape: [max_seq_length, d_model]\n",
    "\n",
    "    def forward(self, x):\n",
    "        x = x.to(device)  # Move input to device\n",
    "\n",
    "        # Get the batch size and sequence length\n",
    "        batch_size, seq_len, d_model = x.size(0), x.size(1), x.size(2)\n",
    "\n",
    "        # Dynamically slice the positional encoding\n",
    "        if seq_len > self.max_seq_length:\n",
    "            raise ValueError(f\"Sequence length ({seq_len}) exceeds max_seq_length ({self.max_seq_length})!\")\n",
    "        position_encoding = self.position_encoding[:seq_len, :]  # Shape: [seq_len, d_model]\n",
    "        #print(f\"Sliced position encoding shape: {position_encoding.shape}\")\n",
    "        \n",
    "        # Expand positional encoding to match batch size\n",
    "        position_encoding = position_encoding.unsqueeze(0).expand(batch_size, -1, -1)  # Shape: [batch_size, seq_len, d_model]\n",
    "        #print(f\" Broadcasted position encoding shape: {position_encoding.shape}\")\n",
    "\n",
    "        # Add positional encoding to the input\n",
    "        output = x + position_encoding\n",
    "\n",
    "        #print(f\" Output tensor shape after addition: {output.shape}\")\n",
    "\n",
    "        return output\n"
   ]
  },
  {
   "cell_type": "code",
   "execution_count": 7,
   "metadata": {},
   "outputs": [],
   "source": [
    "def scaled_dot_product(q, k, v, mask=None):\n",
    "\n",
    "    # Step 1: Compute the scaled dot-product (Q * K^T)\n",
    "    d_k = q.size(-1)  # This is the dimension of the keys (and queries)\n",
    "    scaled = torch.matmul(q, k.transpose(-2, -1)) / math.sqrt(d_k)\n",
    "\n",
    "    # Step 2: Apply mask (if provided)\n",
    "    if mask is not None:\n",
    "        # Adjust the mask shape\n",
    "        if mask.ndimension() == 4:\n",
    "            if mask.shape[1] == 1:  # Handle case like (batch_size, 1, seq_len_q, seq_len_k)\n",
    "                mask = mask.expand(-1, q.size(1), -1, -1)  # Broadcast to match num_heads\n",
    "            elif mask.shape == scaled.shape:\n",
    "                print(\"Mask is already correctly shaped for attention.\")\n",
    "            else:\n",
    "                raise ValueError(f\"Unexpected 4D mask shape: {mask.shape}\")\n",
    "        elif mask.ndimension() == 2:\n",
    "            if mask.shape[0] == q.size(0):  # Padding mask: (batch_size, seq_len)\n",
    "                mask = mask.unsqueeze(1).unsqueeze(2)  # Shape: (batch_size, 1, 1, seq_len)\n",
    "                mask = mask.expand(-1, q.size(1), q.size(2), -1)  # Shape: (batch_size, num_heads, seq_len_q, seq_len_k)\n",
    "            elif mask.shape[0] == mask.shape[1]:  # Causal mask: (seq_len, seq_len)\n",
    "                mask = mask.unsqueeze(0).unsqueeze(1)  # Shape: (1, 1, seq_len, seq_len)\n",
    "                mask = mask.expand(q.size(0), q.size(1), -1, -1)  # Shape: (batch_size, num_heads, seq_len_q, seq_len_k)\n",
    "            else:\n",
    "                raise ValueError(f\"Unexpected 2D mask shape: {mask.shape}\")\n",
    "        elif mask.ndimension() == 3:\n",
    "            # Explicit case for (batch_size, seq_len_q, seq_len_k)\n",
    "            mask = mask.unsqueeze(1)  # Shape: (batch_size, 1, seq_len_q, seq_len_k)\n",
    "            mask = mask.expand(-1, q.size(1), -1, -1)  # Shape: (batch_size, num_heads, seq_len_q, seq_len_k)\n",
    "        else:\n",
    "            raise ValueError(f\"Unexpected mask dimensions: {mask.shape}\")\n",
    "        \n",
    "        # Add the mask (assumes additive masking with -inf for masked positions)\n",
    "        scaled = scaled + mask\n",
    "\n",
    "    # Step 3: Apply softmax to get attention weights\n",
    "    attention = F.softmax(scaled, dim=-1)  # Shape: (batch_size, num_heads, seq_len_q, seq_len_k)\n",
    "\n",
    "    # Step 4: Multiply attention weights with values (Q * Attention * V)\n",
    "    values = torch.matmul(attention, v)  # Shape: (batch_size, num_heads, seq_len_q, d_v)\n",
    "\n",
    "    return attention, values"
   ]
  },
  {
   "cell_type": "code",
   "execution_count": 8,
   "metadata": {},
   "outputs": [],
   "source": [
    "def scaled_dot_product_inference(q, k, v, mask=None):\n",
    "    # Ensure all inputs are in the same data type (float32 for attention mechanism)\n",
    "    dtype = torch.float32  # Use float32 for consistency in attention computations\n",
    "    #print(f\"Initial data types - q: {q.dtype}, k: {k.dtype}, v: {v.dtype}\")\n",
    "\n",
    "    # Cast q, k, v to float32 if they are not already\n",
    "    q = q.to(dtype)\n",
    "    k = k.to(dtype)\n",
    "    v = v.to(dtype)\n",
    "    #print(f\"Data types after casting - q: {q.dtype}, k: {k.dtype}, v: {v.dtype}\")\n",
    "\n",
    "    # Step 1: Compute the scaled dot-product (Q * K^T)\n",
    "    d_k = q.size(-1)  # Dimension of keys (and queries)\n",
    "    #print(f\"Query shape: {q.shape}, Key shape: {k.shape}, Value shape: {v.shape}, d_k: {d_k}\")\n",
    "\n",
    "    # Make sure q and k have compatible shapes for multiplication\n",
    "    assert q.size(-1) == k.size(-1), f\"Shape mismatch: {q.shape} vs {k.shape}\"\n",
    "\n",
    "    scaled = torch.matmul(q, k.transpose(-2, -1)) / math.sqrt(d_k)\n",
    "    #print(f\"Scaled dot product shape: {scaled.shape}\")\n",
    "\n",
    "    # Step 2: Apply mask (if provided)\n",
    "    if mask is not None:\n",
    "        #print(f\"Mask provided, mask shape: {mask.shape}\")\n",
    "        # Apply mask (same as before)\n",
    "        mask = mask.to(dtype)\n",
    "        scaled = scaled + mask\n",
    "        #print(f\"Scaled with mask applied, shape: {scaled.shape}\")\n",
    "\n",
    "    # Step 3: Apply softmax to get attention weights\n",
    "    attention = F.softmax(scaled, dim=-1)  # Shape: (batch_size, num_heads, seq_len_q, seq_len_k)\n",
    "    #print(f\"Attention shape: {attention.shape}\")\n",
    "\n",
    "    # Step 4: Multiply attention weights with values (Q * Attention * V)\n",
    "    values = torch.matmul(attention, v)  # Shape: (batch_size, num_heads, seq_len_q, d_v)\n",
    "    #print(f\"Values shape: {values.shape}\")\n",
    "\n",
    "    return attention, values"
   ]
  },
  {
   "cell_type": "code",
   "execution_count": 9,
   "metadata": {},
   "outputs": [],
   "source": [
    "\n",
    "class MultiHeadAttention(nn.Module):\n",
    "    def __init__(self, num_heads, d_model):\n",
    "        super().__init__()\n",
    "        self.d_model = d_model  # 512\n",
    "        self.num_heads = num_heads  # 8\n",
    "        self.head_dim = d_model // num_heads  # 64\n",
    "        self.qkv_layer = nn.Linear(d_model, 3*d_model).to(device)  # 512 x 1536\n",
    "        self.linear_layer = nn.Linear(d_model, d_model).to(device)  # 512 x 512\n",
    "\n",
    "    def forward(self, x, mask=None):\n",
    "        x = x.to(device)  # Move input to device\n",
    "        if mask is not None:\n",
    "            mask = mask.to(device)\n",
    "\n",
    "        #print(f\"x.shape = {x.shape}\")\n",
    "        batch_size, max_seq_length, d_model = x.size()\n",
    "        #print(f\"x.size() = {x.size()}\")\n",
    "        qkv = self.qkv_layer(x)\n",
    "        #print(f\"x after going through qkv layer - {qkv.size()}\")\n",
    "        qkv_reshape = qkv.reshape(batch_size, max_seq_length, self.num_heads, 3*self.head_dim)\n",
    "        #print(\"--- Entering MultiHeadedAttention ---\")\n",
    "        #print(f\"qkv reshaped shape is {qkv_reshape.size()}\")\n",
    "        qkv_permute = qkv_reshape.permute(0,2,1,3)\n",
    "        #print(f\"QKV Permuted Shape is - {qkv_permute.size()}\")\n",
    "        #print(\"--- Dividing QKV into individual tensors ---\")\n",
    "        q, k, v = qkv_permute.chunk(3, dim=-1)\n",
    "        #print(\"Now q, k, v tensors are passed into the Attention Calculation\")\n",
    "        attention, values = scaled_dot_product(q, k, v, mask=mask)\n",
    "        #print(\"Now we get the Attention Scores and New Values\")\n",
    "        #print(f\"Values shape we get from scaled dot product attention is - {values.size()}\")\n",
    "        #print(\"Now we concatinate the values received from scaled dot product.\")\n",
    "        values_reshaped = values.permute(0,2,1,3).reshape(batch_size, max_seq_length, self.num_heads * self.head_dim)\n",
    "        #print(f\"New Values from Multiheaded attention output shape is - {values_reshaped.size()}\")\n",
    "        output = self.linear_layer(values_reshaped)\n",
    "        #print(f\"Final Output shape from multiheaded attention heads - {output.size()}\")\n",
    "        return output\n"
   ]
  },
  {
   "cell_type": "code",
   "execution_count": 10,
   "metadata": {},
   "outputs": [],
   "source": [
    "class LayerNormalization(nn.Module):\n",
    "    def __init__(self, parameters_shape, eps=1e-5):\n",
    "        super().__init__()\n",
    "        self.parameters_shape = parameters_shape\n",
    "        self.eps = eps\n",
    "        self.gamma = nn.Parameter(torch.ones(parameters_shape)).to(device)\n",
    "        self.beta = nn.Parameter(torch.zeros(parameters_shape)).to(device)\n",
    "\n",
    "    def forward(self, inputs):\n",
    "        inputs = inputs.to(device)  # Move input to device\n",
    "        dims = [-(i + 1) for i in range(len(self.parameters_shape))]\n",
    "        mean = inputs.mean(dim=dims, keepdim=True)\n",
    "        #print(f\"Shape of the Mean after preserving the dimensions - {mean.size()}\")\n",
    "        var = ((inputs - mean)**2).mean(dim=dims, keepdim=True)\n",
    "        std = (var + self.eps).sqrt()\n",
    "        #print(f\"Standard Deviation is {std.size()}\")\n",
    "        normalized_out = (inputs - mean) / std\n",
    "        normalized_out = (normalized_out * self.gamma) + self.beta\n",
    "        #print(\"Normalized value is Multiplied and Added with Learnable Parameters Gamma and Beta\")\n",
    "        #print(f\"Shape of gamma and beta are - {self.gamma.size()} and {self.beta.size()}\")\n",
    "        #print(f\"Layer Normalized Output shape is {normalized_out.size()}\")\n",
    "        return normalized_out\n",
    "\n"
   ]
  },
  {
   "cell_type": "code",
   "execution_count": 11,
   "metadata": {},
   "outputs": [],
   "source": [
    "## Putting it all together \n",
    "class EncoderLayer(nn.Module):\n",
    "    def __init__(self, d_model, ffn_hidden, num_heads, drop_prob):\n",
    "        super().__init__()\n",
    "        self.attention_layer = MultiHeadAttention(num_heads=num_heads, d_model=d_model).to(device)\n",
    "        self.layer_normalizer1 = LayerNormalization(parameters_shape=[d_model]).to(device)\n",
    "        self.dropout1 = nn.Dropout(p=drop_prob).to(device)\n",
    "        self.ffn = PositionwiseFeedForward(d_model=d_model, hidden=ffn_hidden, drop_prob=drop_prob).to(device)\n",
    "        self.layer_normalizer2 = LayerNormalization(parameters_shape=[d_model]).to(device)\n",
    "        self.dropout2 = nn.Dropout(p=drop_prob).to(device)\n",
    "\n",
    "    def forward(self, x, mask=None):\n",
    "        x = x.to(device)  # Move input to device\n",
    "        if mask is not None:\n",
    "            mask = mask.to(device)\n",
    "        \n",
    "        residual_x = x\n",
    "        #print(f\"Encoder Attention Mask shape: {mask.shape}\")\n",
    "        #print(mask)\n",
    "        #print(\"----- Attention Layer 1 ----\")\n",
    "        x = self.attention_layer(x, mask=mask)\n",
    "        #print(f\"Output shape from Multi Head Attention - {x.size()}\")\n",
    "        #print(\"---- Dropout 1 ----\")\n",
    "        x = self.dropout1(x)\n",
    "        #print(f\"x shape after passing through dropout Layer 1 - {x.size()}\")\n",
    "        #print(\"----- Add and Normalizer 1 ---\")\n",
    "        x = self.layer_normalizer1(residual_x + x)\n",
    "        #print(f\"x shape after passing through layer normalizer 1 - {x.size()}\")\n",
    "        residual_x = x\n",
    "        #print(\"---- Attention 2 through ffn ----\")\n",
    "        x = self.ffn(x)\n",
    "        #print(\"----- Dropout 2 -----\")\n",
    "        x = self.dropout2(x)\n",
    "        #print(\"----- Add and Normalizer 2 ---\")\n",
    "        x = self.layer_normalizer2(residual_x + x)\n",
    "        return x"
   ]
  },
  {
   "cell_type": "code",
   "execution_count": 12,
   "metadata": {},
   "outputs": [],
   "source": [
    "## Encoder Block\n",
    "\n",
    "class EncoderBlock(nn.Module):\n",
    "    def __init__(self, d_model, ffn_hidden, num_heads, drop_prob, num_layers):\n",
    "        super().__init__()\n",
    "        self.layers = nn.Sequential(*[EncoderLayer(d_model=d_model, ffn_hidden=ffn_hidden, num_heads=num_heads, drop_prob=drop_prob).to(device) \n",
    "                                       for _ in range(num_layers)])\n",
    "    \n",
    "    def forward(self, x, mask=None):\n",
    "        x = x.to(device)  # Move input to device\n",
    "        if mask is not None:\n",
    "            mask = mask.to(device)\n",
    "        \n",
    "        for layer in self.layers:\n",
    "            x = layer(x, mask)\n",
    "        return x "
   ]
  },
  {
   "cell_type": "code",
   "execution_count": 13,
   "metadata": {},
   "outputs": [],
   "source": [
    "encoder = EncoderBlock(d_model, ffn_hidden, num_heads,drop_prob, num_layers)"
   ]
  },
  {
   "cell_type": "code",
   "execution_count": 14,
   "metadata": {},
   "outputs": [],
   "source": [
    "class MultiHeadedCrossAttention(nn.Module):\n",
    "    def __init__(self, d_model, num_heads):\n",
    "        super().__init__()\n",
    "        self.d_model = d_model\n",
    "        self.num_heads = num_heads\n",
    "        self.head_dim = d_model // num_heads\n",
    "        self.kv_layer = nn.Linear(d_model, 2*d_model).to(device)\n",
    "        self.q_layer = nn.Linear(d_model, d_model).to(device)\n",
    "        self.linear_layer = nn.Linear(d_model, d_model).to(device)\n",
    "\n",
    "    def forward(self, x, y, mask=None):\n",
    "        x, y = x.to(device), y.to(device)  # Move inputs to device\n",
    "        if mask is not None:\n",
    "            mask = mask.to(device)\n",
    "\n",
    "        batch_size, encoder_max_seq_length, d_model = x.size()\n",
    "        _, decoder_max_seq_len, _ = y.size()\n",
    "        #print(\"This is the input to the Decoder Layer Cross Attention from Masked Attention from\")\n",
    "        #print(f\"The shape of the input x which comes from Encoder is {x.size()}\")\n",
    "        #print(\"The shape of cross attention mask used in Multi Headed Cross Attention is -\", mask.shape)\n",
    "        \n",
    "        # Keys and values for cross attention will be coming from encoder layer\n",
    "        kv = self.kv_layer(x)\n",
    "        #print(\"The Keys and Values for Cross Attention will be coming from Encoder Layer\")\n",
    "        #print(f\"The shape of kv is {kv.size()}\")\n",
    "        #print(\"batch size: \", batch_size)\n",
    "        #print(\"max_seq_len:\", encoder_max_seq_length)\n",
    "        #print(\"num heads: \", self.num_heads)\n",
    "        #print(\"head_dim: \", self.head_dim)\n",
    "        \n",
    "        #print(\"Query matrix will be coming from masked self-attention head from decoder\")\n",
    "        q = self.q_layer(y)\n",
    "        #print(\"The y which is the query matrix will be coming from the masked self attention head from Decoder.\")\n",
    "        #print(f\"The shape of q is {q.size()}\")\n",
    "        #print(f\"The shape of kv coming from encoder layer is - {kv.size()}\")\n",
    "        \n",
    "        kv = kv.reshape(batch_size, encoder_max_seq_length, self.num_heads, 2*self.head_dim)\n",
    "        #print(\"kv reshaped shape is  - \", kv.shape)\n",
    "        q = q.reshape(batch_size, decoder_max_seq_len, self.num_heads, self.head_dim)\n",
    "        #print(\"q reshaped shape is  -\", q.shape)\n",
    "        # q shape is 30 x 200 x 8 x 64\n",
    "        # k, v shape is 30 x 200 x 8 x 128\n",
    "        # The shape we want is q = 30 x 8 x 200 x 64\n",
    "        # The shape we want for k, v = 30 x 8 x 200 x 128\n",
    "        kv = kv.permute(0,2,1,3)\n",
    "        q = q.permute(0,2,1,3)\n",
    "        k, v = kv.chunk(2, dim=-1)\n",
    "        #print(\"kv and q after permuted and kv after chunk. Final shapes will be of q,k,v- \",q.shape, k.shape, v.shape)\n",
    "        # the shape of k, v = 30 x 8 x 200 x 64\n",
    "\n",
    "        attention, values = scaled_dot_product(q, k, v, mask=mask)\n",
    "        #print(f\"Values and Attention shapes are {values.size()} and {attention.size()}\")\n",
    "        values = values.permute(0,2,1,3).reshape(batch_size, decoder_max_seq_len, self.num_heads * self.head_dim)\n",
    "        #print(f\"The contextualized values will be reshaped by 'values.reshape(batch_size, max_seq_length, self.num_heads * self.head_dim)'\")\n",
    "        #print(f\"The contextualized values will be of shape {values.size()}\")\n",
    "        out = self.linear_layer(values)\n",
    "        #print(f\"Values passing through a linear layer and returns output with shape - {out.size()}\")\n",
    "        return out  # 30 x 200 x 512"
   ]
  },
  {
   "cell_type": "code",
   "execution_count": 15,
   "metadata": {},
   "outputs": [],
   "source": [
    "class DecoderLayer(nn.Module):\n",
    "    def __init__(self, d_model, ffn_hidden, drop_prob, num_heads):\n",
    "        super().__init__()\n",
    "        self.self_attention = MultiHeadAttention(d_model=d_model, num_heads=num_heads).to(device)\n",
    "        self.layer_norm1 = LayerNormalization(parameters_shape=[d_model]).to(device)\n",
    "        self.dropout1 = nn.Dropout(p=drop_prob).to(device)\n",
    "        self.encoder_decoder_cross_attention = MultiHeadedCrossAttention(d_model=d_model, num_heads=num_heads).to(device)\n",
    "        self.layer_norm2 = LayerNormalization(parameters_shape=[d_model]).to(device)\n",
    "        self.dropout2 = nn.Dropout(p=drop_prob).to(device)\n",
    "        self.ffn = PositionwiseFeedForward(d_model=d_model, hidden=ffn_hidden, drop_prob=drop_prob).to(device)\n",
    "        self.layer_norm3 = LayerNormalization(parameters_shape=[d_model]).to(device)\n",
    "        self.dropout3 = nn.Dropout(p=drop_prob).to(device)\n",
    "\n",
    "    def forward(self, x, y, decoder_self_attention_mask=None, cross_attention_mask=None):\n",
    "        x, y = x.to(device), y.to(device)  # Move inputs to device\n",
    "        if decoder_self_attention_mask is not None:\n",
    "            decoder_self_attention_mask = decoder_self_attention_mask.to(device)\n",
    "        if cross_attention_mask is not None:\n",
    "            cross_attention_mask = cross_attention_mask.to(device)\n",
    "\n",
    "        #print(f\"Initial input to DecoderLayer x: {x.shape}, y: {y.shape}\")  \n",
    "        #print(\"Mask shapes used in decoder layer are - \")\n",
    "        #print(\"The shape of decoder masked attention - \", decoder_self_attention_mask.shape)\n",
    "        #print(\"The shape of encoder decoder cross attention mask is - \", cross_attention_mask.shape)\n",
    "\n",
    "        residual_y = y\n",
    "        #print(\"----ENTERING MASKED ATTENTION----\")\n",
    "        y = self.self_attention(y, mask=decoder_self_attention_mask)\n",
    "        #print(f\"Output of masked self-attention: {y.shape}\")  \n",
    "\n",
    "        y = self.dropout1(y)\n",
    "        #print(f\"After dropout 1: {y.shape}\")\n",
    "\n",
    "        y = self.layer_norm1(residual_y + y)\n",
    "        #print(f\"After layer norm 1: {y.shape}\")\n",
    "\n",
    "        residual_y = y\n",
    "        y = self.encoder_decoder_cross_attention(x, y, mask=cross_attention_mask)\n",
    "        #print(f\"Output of cross attention: {y.shape}\")\n",
    "\n",
    "        y = self.dropout2(y)\n",
    "        #print(f\"After dropout 2: {y.shape}\")\n",
    "\n",
    "        y = self.layer_norm2(residual_y + y)\n",
    "        #print(f\"After layer norm 2: {y.shape}\")\n",
    "\n",
    "        residual_y = y\n",
    "        y = self.ffn(y)\n",
    "        #print(f\"After feed-forward network: {y.shape}\")\n",
    "\n",
    "        y = self.dropout3(y)\n",
    "        #print(f\"After dropout 3: {y.shape}\")\n",
    "\n",
    "        y = self.layer_norm3(residual_y + y)\n",
    "        #print(f\"Final output from DecoderLayer: {y.shape}\")\n",
    "        return y"
   ]
  },
  {
   "cell_type": "code",
   "execution_count": 16,
   "metadata": {},
   "outputs": [],
   "source": [
    "class SequentialDecoder(nn.Sequential):\n",
    "    #         self._modules is a dictionary of all the layers stored in the SequentialDecoder (inherited from nn.Sequential).\n",
    "    #         self._modules.values() gives a list of the layers in the order they were added.\n",
    "\n",
    "    def forward(self, x, y, decoder_self_attention_mask=None, cross_attention_mask=None):\n",
    "        x, y = x.to(device), y.to(device)  # Move inputs to device\n",
    "        if decoder_self_attention_mask is not None:\n",
    "            decoder_self_attention_mask = decoder_self_attention_mask.to(device)\n",
    "        if cross_attention_mask is not None:\n",
    "            cross_attention_mask = cross_attention_mask.to(device)\n",
    "\n",
    "        for module in self._modules.values():\n",
    "            y = module(x, y, decoder_self_attention_mask, cross_attention_mask)\n",
    "        return y"
   ]
  },
  {
   "cell_type": "code",
   "execution_count": 17,
   "metadata": {},
   "outputs": [],
   "source": [
    "class Decoder(nn.Sequential):\n",
    "    def __init__(self, d_model, num_heads, ffn_hidden, drop_prob, num_layers, device = device):\n",
    "        super().__init__()\n",
    "        self.layers = SequentialDecoder(*[\n",
    "            DecoderLayer(d_model=d_model,\n",
    "                         ffn_hidden=ffn_hidden,\n",
    "                         drop_prob=drop_prob,\n",
    "                         num_heads=num_heads).to(device)\n",
    "            for _ in range(num_layers)\n",
    "        ])\n",
    "\n",
    "    def forward(self, x, y, decoder_self_attention_mask=None, cross_attention_mask=None):\n",
    "        x, y = x.to(device), y.to(device)  # Move inputs to device\n",
    "        if decoder_self_attention_mask is not None:\n",
    "            decoder_self_attention_mask = decoder_self_attention_mask.to(device)\n",
    "        if cross_attention_mask is not None:\n",
    "            cross_attention_mask = cross_attention_mask.to(device)\n",
    "        \n",
    "        # x shape is 30 x 200 x 512\n",
    "        # y shape is 30 x 200 x 512\n",
    "        return self.layers(x, y, decoder_self_attention_mask, cross_attention_mask)\n"
   ]
  },
  {
   "cell_type": "code",
   "execution_count": 18,
   "metadata": {},
   "outputs": [],
   "source": [
    "decoder = Decoder(\n",
    "    d_model=d_model,\n",
    "    num_heads=num_heads,\n",
    "    ffn_hidden=ffn_hidden,\n",
    "    drop_prob=drop_prob,\n",
    "    num_layers=num_layers,\n",
    "    device=device)"
   ]
  },
  {
   "cell_type": "code",
   "execution_count": 19,
   "metadata": {},
   "outputs": [],
   "source": [
    "with open('/Users/venu/Documents/Productivity/Pytorch Tutorials/en-te/English_Text.txt', \"r\") as english_file_te_trans:\n",
    "    source_eng_to_te_text = english_file_te_trans.readlines()\n",
    "\n",
    "with open('/Users/venu/Documents/Productivity/Pytorch Tutorials/en-te/Telugu_Text.txt', \"r\") as telugu_file:\n",
    "    telugu_text = telugu_file.readlines()\n",
    "\n",
    "with open('/Users/venu/Documents/Productivity/Pytorch Tutorials/en-hi/english_text.txt',\"r\") as english_file_hi_trans:\n",
    "    source_eng_to_hi_text = english_file_hi_trans.readlines()\n",
    "\n",
    "with open('/Users/venu/Documents/Productivity/Pytorch Tutorials/en-hi/hindi_text.txt', \"r\") as hindi_file:\n",
    "    hindi_text = hindi_file.readlines()"
   ]
  },
  {
   "cell_type": "code",
   "execution_count": 20,
   "metadata": {},
   "outputs": [
    {
     "data": {
      "text/plain": [
       "('But in BJP this does not happen. \\n', 'కానీ బీజేపీ అలా వివక్ష చూపించదు. \\n')"
      ]
     },
     "execution_count": 20,
     "metadata": {},
     "output_type": "execute_result"
    }
   ],
   "source": [
    "source_eng_to_te_text[-1000], telugu_text[-1000]"
   ]
  },
  {
   "cell_type": "code",
   "execution_count": 21,
   "metadata": {},
   "outputs": [
    {
     "data": {
      "text/plain": [
       "('This trend is ominous.\\n', 'यह प्रवृत्ति देशघाती है।\\n')"
      ]
     },
     "execution_count": 21,
     "metadata": {},
     "output_type": "execute_result"
    }
   ],
   "source": [
    "source_eng_to_hi_text[-1000], hindi_text[-1000]"
   ]
  },
  {
   "cell_type": "code",
   "execution_count": 22,
   "metadata": {},
   "outputs": [
    {
     "data": {
      "text/plain": [
       "(4946036, 4946036, 8568307, 8568307)"
      ]
     },
     "execution_count": 22,
     "metadata": {},
     "output_type": "execute_result"
    }
   ],
   "source": [
    "len(source_eng_to_te_text), len(telugu_text), len(source_eng_to_hi_text), len(hindi_text)"
   ]
  },
  {
   "cell_type": "code",
   "execution_count": 23,
   "metadata": {},
   "outputs": [],
   "source": [
    "SAMPLE_NUM = 45000"
   ]
  },
  {
   "cell_type": "code",
   "execution_count": 24,
   "metadata": {},
   "outputs": [],
   "source": [
    "source_eng_tel_trans = source_eng_to_te_text[-SAMPLE_NUM:]\n",
    "target_telugu = telugu_text[-SAMPLE_NUM:]\n",
    "source_eng_hin_trans = source_eng_to_hi_text[:SAMPLE_NUM]\n",
    "target_hindi = hindi_text[:SAMPLE_NUM]"
   ]
  },
  {
   "cell_type": "code",
   "execution_count": 25,
   "metadata": {},
   "outputs": [
    {
     "data": {
      "text/plain": [
       "(['This is our great day that we have waited for, replied his companion, grabbing a rifle and making for the rooftop of the university. \\n',\n",
       "  'People heard a huge explosion sound. \\n'],\n",
       " ['ఆ రోజు మరణించిన ఎనిమిదిమంది డిటో స్నేహితుల్లో ఆయన ఒకడు. \\n',\n",
       "  'భారీ పేలుడుతో ప్రజలు భయభ్రాంతులకు గురయ్యారు. \\n'],\n",
       " ['In reply, Pakistan got off to a solid start.\\n',\n",
       "  'The European Union has seven principal decision-making bodies, its institutions: the European Parliament, the European Council, the Council of the European Union, the European Commission, the Court of Justice of the European Union, the European Central Bank and the European Court of Auditors.\\n'],\n",
       " ['जिसके जवाब में पाक ने अच्छी शुरुआत की थी.\\n',\n",
       "  'यूरोपीय संघ के महत्वपूर्ण संस्थानों में यूरोपियन कमीशन, यूरोपीय संसद, यूरोपीय संघ परिषद, यूरोपीय न्यायलय एवं यूरोपियन सेंट्रल बैंक इत्यादि शामिल हैं।\\n'])"
      ]
     },
     "execution_count": 25,
     "metadata": {},
     "output_type": "execute_result"
    }
   ],
   "source": [
    "source_eng_tel_trans[:2], target_telugu[:2], source_eng_hin_trans[:2], target_hindi[:2]"
   ]
  },
  {
   "cell_type": "code",
   "execution_count": 26,
   "metadata": {},
   "outputs": [
    {
     "data": {
      "text/plain": [
       "(45000, 45000, 45000, 45000)"
      ]
     },
     "execution_count": 26,
     "metadata": {},
     "output_type": "execute_result"
    }
   ],
   "source": [
    "len(source_eng_tel_trans), len(target_telugu), len(source_eng_hin_trans), len(target_hindi)"
   ]
  },
  {
   "cell_type": "code",
   "execution_count": 27,
   "metadata": {},
   "outputs": [],
   "source": [
    "# prepend language tokens for telugu and spanish text\n",
    "\n",
    "target_sample_telugu_sentences = [\"<_te_>\" + sentence.strip() for sentence in target_telugu]\n",
    "target_sample_hindi_sentences = [\"<_hi_>\" + sentence.strip() for sentence in target_hindi]"
   ]
  },
  {
   "cell_type": "code",
   "execution_count": 28,
   "metadata": {},
   "outputs": [
    {
     "data": {
      "text/plain": [
       "(['This is our great day that we have waited for, replied his companion, grabbing a rifle and making for the rooftop of the university. \\n',\n",
       "  'People heard a huge explosion sound. \\n',\n",
       "  'India was not immune to this fall. \\n'],\n",
       " ['<_te_>ఆ రోజు మరణించిన ఎనిమిదిమంది డిటో స్నేహితుల్లో ఆయన ఒకడు.',\n",
       "  '<_te_>భారీ పేలుడుతో ప్రజలు భయభ్రాంతులకు గురయ్యారు.',\n",
       "  '<_te_>దీంతో భారత్ ఓటమి తప్పలేదు.'],\n",
       " ['In reply, Pakistan got off to a solid start.\\n',\n",
       "  'The European Union has seven principal decision-making bodies, its institutions: the European Parliament, the European Council, the Council of the European Union, the European Commission, the Court of Justice of the European Union, the European Central Bank and the European Court of Auditors.\\n',\n",
       "  'The Congress leader represents Sivaganga Lok Sabha segment from Tamil Nadu.\\n'],\n",
       " ['<_hi_>जिसके जवाब में पाक ने अच्छी शुरुआत की थी.',\n",
       "  '<_hi_>यूरोपीय संघ के महत्वपूर्ण संस्थानों में यूरोपियन कमीशन, यूरोपीय संसद, यूरोपीय संघ परिषद, यूरोपीय न्यायलय एवं यूरोपियन सेंट्रल बैंक इत्यादि शामिल हैं।',\n",
       "  '<_hi_>कांग्रेस नेता तमिलनाडु से शिवगंगा लोकसभा क्षेत्र का प्रतिनिधित्व करते हैं.'])"
      ]
     },
     "execution_count": 28,
     "metadata": {},
     "output_type": "execute_result"
    }
   ],
   "source": [
    "source_eng_tel_trans[:3], target_sample_telugu_sentences[:3], source_eng_hin_trans[:3], target_sample_hindi_sentences[:3]"
   ]
  },
  {
   "cell_type": "code",
   "execution_count": 29,
   "metadata": {},
   "outputs": [],
   "source": [
    "# stripping new line\n",
    "source_eng_tel_trans = [sentence.rstrip('\\n') for sentence in source_eng_tel_trans]\n",
    "target_sample_telugu_sentences = [sentence.rstrip('\\n') for sentence in target_sample_telugu_sentences]\n",
    "source_eng_hin_trans = [sentence.rstrip('\\n') for sentence in source_eng_hin_trans]\n",
    "target_sample_hindi_sentences = [sentence.rstrip('\\n') for sentence in target_sample_hindi_sentences]"
   ]
  },
  {
   "cell_type": "code",
   "execution_count": 30,
   "metadata": {},
   "outputs": [
    {
     "name": "stdout",
     "output_type": "stream",
     "text": [
      "Max length of tokens in english to spanish english text - 1302\n",
      "Max length of tokens in english to telugu english text - 1217\n",
      "Max length of tokens in spanish sentences - 1098\n",
      "Max length of tokens in telugu sentences - 1177\n"
     ]
    }
   ],
   "source": [
    "# checking max lenght of english and telugu sentences\n",
    "max_len_en_tel_sentences = max(len(sentence) for sentence in source_eng_tel_trans)\n",
    "max_len_tel_sentences = max(len(sentence) for sentence in target_sample_telugu_sentences)\n",
    "max_len_eng_hin_sentences = max(len(sentence) for sentence in source_eng_hin_trans)\n",
    "max_len_hindi_sentences = max(len(sentence) for sentence in target_sample_hindi_sentences)\n",
    "\n",
    "print(f\"Max length of tokens in english to spanish english text - {max_len_en_tel_sentences}\")\n",
    "print(f\"Max length of tokens in english to telugu english text - {max_len_tel_sentences}\")\n",
    "print(f\"Max length of tokens in spanish sentences - {max_len_eng_hin_sentences}\")\n",
    "print(f\"Max length of tokens in telugu sentences - {max_len_hindi_sentences}\")"
   ]
  },
  {
   "cell_type": "code",
   "execution_count": 31,
   "metadata": {},
   "outputs": [
    {
     "name": "stderr",
     "output_type": "stream",
     "text": [
      "/var/folders/yb/r3k6h0y11431_5th45hwjmjr0000gn/T/ipykernel_25525/4225657690.py:8: MatplotlibDeprecationWarning: The 'labels' parameter of boxplot() has been renamed 'tick_labels' since Matplotlib 3.9; support for the old name will be dropped in 3.11.\n",
      "  plt.boxplot([english_telugu_lengths, sample_telugu_lengths], labels=['English', 'Telugu'])\n"
     ]
    },
    {
     "data": {
      "image/png": "[encoded data removed]",
      "text/plain": [
       "<Figure size 640x480 with 1 Axes>"
      ]
     },
     "metadata": {},
     "output_type": "display_data"
    },
    {
     "name": "stderr",
     "output_type": "stream",
     "text": [
      "/var/folders/yb/r3k6h0y11431_5th45hwjmjr0000gn/T/ipykernel_25525/4225657690.py:18: MatplotlibDeprecationWarning: The 'labels' parameter of boxplot() has been renamed 'tick_labels' since Matplotlib 3.9; support for the old name will be dropped in 3.11.\n",
      "  plt.boxplot([english_hindi_lengths, sample_hindi_lengths], labels=['English', 'Hindi'])\n"
     ]
    },
    {
     "data": {
      "image/png": "[encoded data removed]",
      "text/plain": [
       "<Figure size 640x480 with 1 Axes>"
      ]
     },
     "metadata": {},
     "output_type": "display_data"
    }
   ],
   "source": [
    "import matplotlib.pyplot as plt\n",
    "\n",
    "# Calculate sentence lengths\n",
    "english_telugu_lengths = [len(sentence) for sentence in source_eng_tel_trans]\n",
    "sample_telugu_lengths = [len(sentence) for sentence in target_sample_telugu_sentences]\n",
    "\n",
    "# Plot boxplots\n",
    "plt.boxplot([english_telugu_lengths, sample_telugu_lengths], labels=['English', 'Telugu'])\n",
    "plt.ylabel('Sentence Length')\n",
    "plt.title('Sentence Length Distribution')\n",
    "plt.show()\n",
    "\n",
    "# Calculate sentence lengths\n",
    "english_hindi_lengths = [len(sentence) for sentence in source_eng_hin_trans]\n",
    "sample_hindi_lengths = [len(sentence) for sentence in target_sample_hindi_sentences]\n",
    "\n",
    "# Plot boxplots\n",
    "plt.boxplot([english_hindi_lengths, sample_hindi_lengths], labels=['English', 'Hindi'])\n",
    "plt.ylabel('Sentence Length')\n",
    "plt.title('Sentence Length Distribution')\n",
    "plt.show()"
   ]
  },
  {
   "cell_type": "code",
   "execution_count": 32,
   "metadata": {},
   "outputs": [
    {
     "name": "stdout",
     "output_type": "stream",
     "text": [
      "97% of English sentences in English to Telugu dataset have length of 176.0 tokens or less\n",
      "97% of Telugu sentences in English to Telugu dataset have length of 172.0 tokens or less\n",
      "97% of English sentences in English to Hindi dataset have length of 265.0 tokens or less\n",
      "97% of Hindi sentences in English to Hindi dataset have length of 264.0 tokens or less\n"
     ]
    }
   ],
   "source": [
    "# restricting the max length sentences to be allowed to 97 percentile\n",
    "\n",
    "# Calculate desired percentile\n",
    "percentile = 97\n",
    "en_te_value = np.percentile(english_telugu_lengths, percentile)\n",
    "telugu_value = np.percentile(sample_telugu_lengths, percentile)\n",
    "en_hi_value = np.percentile(english_hindi_lengths, percentile)\n",
    "hindi_value = np.percentile(sample_hindi_lengths, percentile)\n",
    "\n",
    "\n",
    "print(f\"{percentile}% of English sentences in English to Telugu dataset have length of {en_te_value} tokens or less\")\n",
    "print(f\"{percentile}% of Telugu sentences in English to Telugu dataset have length of {telugu_value} tokens or less\")\n",
    "print(f\"{percentile}% of English sentences in English to Hindi dataset have length of {en_hi_value} tokens or less\")\n",
    "print(f\"{percentile}% of Hindi sentences in English to Hindi dataset have length of {hindi_value} tokens or less\")"
   ]
  },
  {
   "cell_type": "code",
   "execution_count": 33,
   "metadata": {},
   "outputs": [],
   "source": [
    "# passing sentences only if they have length less then the max sequence length\n",
    "def is_valid_length(sentence, max_seq_length):\n",
    "    return len(list(sentence)) < (max_seq_length - 1)"
   ]
  },
  {
   "cell_type": "code",
   "execution_count": 34,
   "metadata": {},
   "outputs": [
    {
     "data": {
      "text/plain": [
       "(45000, 45000, 45000, 45000)"
      ]
     },
     "execution_count": 34,
     "metadata": {},
     "output_type": "execute_result"
    }
   ],
   "source": [
    "len(source_eng_tel_trans), len(target_sample_telugu_sentences), len(source_eng_hin_trans), len(target_sample_hindi_sentences)"
   ]
  },
  {
   "cell_type": "code",
   "execution_count": 35,
   "metadata": {},
   "outputs": [],
   "source": [
    "valid_english_telugu_sentence_indices = []\n",
    "\n",
    "for index in range(len(target_sample_telugu_sentences)):\n",
    "    valid_sample_eng_tel_sentences, valid_sample_telugu = source_eng_tel_trans[index], target_sample_telugu_sentences[index]\n",
    "    if is_valid_length(valid_sample_eng_tel_sentences, max_seq_length)\\\n",
    "    and is_valid_length(valid_sample_telugu, max_seq_length):\n",
    "        valid_english_telugu_sentence_indices.append(index)"
   ]
  },
  {
   "cell_type": "code",
   "execution_count": 36,
   "metadata": {},
   "outputs": [],
   "source": [
    "valid_english_hindi_sentence_indices = []\n",
    "\n",
    "for index in range(len(target_sample_hindi_sentences)):\n",
    "    valid_sample_eng_hin_sentences, valid_sample_hindi = source_eng_hin_trans[index], target_sample_hindi_sentences[index]\n",
    "    if is_valid_length(valid_sample_eng_hin_sentences, max_seq_length)\\\n",
    "    and is_valid_length(valid_sample_hindi, max_seq_length):\n",
    "        valid_english_hindi_sentence_indices.append(index)"
   ]
  },
  {
   "cell_type": "code",
   "execution_count": 37,
   "metadata": {},
   "outputs": [
    {
     "data": {
      "text/plain": [
       "(44774, 43796)"
      ]
     },
     "execution_count": 37,
     "metadata": {},
     "output_type": "execute_result"
    }
   ],
   "source": [
    "len(valid_english_telugu_sentence_indices), len(valid_english_hindi_sentence_indices)"
   ]
  },
  {
   "cell_type": "code",
   "execution_count": 38,
   "metadata": {},
   "outputs": [
    {
     "data": {
      "text/plain": [
       "(44774, 43796, 43796, 44774)"
      ]
     },
     "execution_count": 38,
     "metadata": {},
     "output_type": "execute_result"
    }
   ],
   "source": [
    "sample_valid_telugu_sentences = [target_sample_telugu_sentences[i] for i in valid_english_telugu_sentence_indices]\n",
    "sample_valid_hindi_sentences = [target_sample_hindi_sentences[i] for i in valid_english_hindi_sentence_indices]\n",
    "sample_valid_english_eng_hin_sentences = [source_eng_hin_trans[i] for i in valid_english_hindi_sentence_indices]\n",
    "sample_valid_english_eng_tel_sentences = [source_eng_tel_trans[i] for i in valid_english_telugu_sentence_indices]\n",
    "\n",
    "len(sample_valid_telugu_sentences), len(sample_valid_hindi_sentences), len(sample_valid_english_eng_hin_sentences), len(sample_valid_english_eng_tel_sentences)"
   ]
  },
  {
   "cell_type": "code",
   "execution_count": 39,
   "metadata": {},
   "outputs": [
    {
     "data": {
      "text/plain": [
       "('<_te_>అన్ని ప్రజలు తర్వాత ఎప్పుడైనా సంతోషంగా నివసిస్తున్నట్లు.',\n",
       " 'Everyone lives happily ever after. ')"
      ]
     },
     "execution_count": 39,
     "metadata": {},
     "output_type": "execute_result"
    }
   ],
   "source": [
    "sample_valid_telugu_sentences[-2], sample_valid_english_eng_tel_sentences[-2]"
   ]
  },
  {
   "cell_type": "code",
   "execution_count": 40,
   "metadata": {},
   "outputs": [
    {
     "data": {
      "text/plain": [
       "('<_hi_>हर्पीज संक्रमण कवक कार्रवाई का कारण पाया गया.',\n",
       " 'Serpigo infection was found out to be caused by fungal action.')"
      ]
     },
     "execution_count": 40,
     "metadata": {},
     "output_type": "execute_result"
    }
   ],
   "source": [
    "sample_valid_hindi_sentences[-2], sample_valid_english_eng_hin_sentences[-2]"
   ]
  },
  {
   "cell_type": "code",
   "execution_count": 41,
   "metadata": {},
   "outputs": [],
   "source": [
    "# # appending <eos> at the end to the decoder inputs.\n",
    "# eos_token = \"<eos>\"\n",
    "\n",
    "# sample_valid_telugu_sentences = [sentence + \" \" + eos_token for sentence in sample_valid_telugu_sentences]\n",
    "# sample_valid_hindi_sentences = [sentence + \" \" + eos_token for sentence in sample_valid_hindi_sentences]\n",
    "\n",
    "# sample_valid_hindi_sentences[-2], sample_valid_telugu_sentences[-2]"
   ]
  },
  {
   "cell_type": "markdown",
   "metadata": {},
   "source": [
    "### Preprocess Sentences into Tokens Using Bert Tokenizer"
   ]
  },
  {
   "cell_type": "code",
   "execution_count": 42,
   "metadata": {},
   "outputs": [],
   "source": [
    "# Using Bert Tokenizer\n",
    "\n",
    "from transformers import BertTokenizer"
   ]
  },
  {
   "cell_type": "code",
   "execution_count": null,
   "metadata": {},
   "outputs": [],
   "source": []
  },
  {
   "cell_type": "code",
   "execution_count": 43,
   "metadata": {},
   "outputs": [],
   "source": [
    "special_tokens = [\"<_hi_>\", \"<_te_>\"]"
   ]
  },
  {
   "cell_type": "code",
   "execution_count": 44,
   "metadata": {},
   "outputs": [],
   "source": [
    "# load the pretrained bert tokenizer\n",
    "tokenizer = BertTokenizer.from_pretrained(\"bert-base-multilingual-cased\")"
   ]
  },
  {
   "cell_type": "code",
   "execution_count": 45,
   "metadata": {},
   "outputs": [],
   "source": [
    "# tokenizer.eos_token = \"<eos>\""
   ]
  },
  {
   "cell_type": "code",
   "execution_count": 46,
   "metadata": {},
   "outputs": [],
   "source": [
    "tokenizer.eos_token"
   ]
  },
  {
   "cell_type": "code",
   "execution_count": null,
   "metadata": {},
   "outputs": [],
   "source": []
  },
  {
   "cell_type": "code",
   "execution_count": 47,
   "metadata": {},
   "outputs": [
    {
     "data": {
      "text/plain": [
       "119547"
      ]
     },
     "execution_count": 47,
     "metadata": {},
     "output_type": "execute_result"
    }
   ],
   "source": [
    "tokenizer.vocab_size"
   ]
  },
  {
   "cell_type": "code",
   "execution_count": 48,
   "metadata": {},
   "outputs": [
    {
     "data": {
      "text/plain": [
       "2"
      ]
     },
     "execution_count": 48,
     "metadata": {},
     "output_type": "execute_result"
    }
   ],
   "source": [
    "tokenizer.add_special_tokens({\"additional_special_tokens\": special_tokens})"
   ]
  },
  {
   "cell_type": "code",
   "execution_count": 49,
   "metadata": {},
   "outputs": [
    {
     "name": "stdout",
     "output_type": "stream",
     "text": [
      "Special tokens added: ['<_hi_>', '<_te_>']\n",
      "Vocabulary size: 119547\n"
     ]
    }
   ],
   "source": [
    "print(\"Special tokens added:\", tokenizer.additional_special_tokens)\n",
    "print(\"Vocabulary size:\", tokenizer.vocab_size)"
   ]
  },
  {
   "cell_type": "code",
   "execution_count": 50,
   "metadata": {},
   "outputs": [],
   "source": [
    "#tokenizer.vocab_size += len(tokenizer.additional_special_tokens)"
   ]
  },
  {
   "cell_type": "code",
   "execution_count": 51,
   "metadata": {},
   "outputs": [
    {
     "data": {
      "text/plain": [
       "119549"
      ]
     },
     "execution_count": 51,
     "metadata": {},
     "output_type": "execute_result"
    }
   ],
   "source": [
    "total_vocab_size = tokenizer.vocab_size + len(tokenizer.additional_special_tokens)\n",
    "total_vocab_size"
   ]
  },
  {
   "cell_type": "code",
   "execution_count": 52,
   "metadata": {},
   "outputs": [
    {
     "data": {
      "text/plain": [
       "[119547]"
      ]
     },
     "execution_count": 52,
     "metadata": {},
     "output_type": "execute_result"
    }
   ],
   "source": [
    "tokenizer.convert_tokens_to_ids(['<_hi_>'])"
   ]
  },
  {
   "cell_type": "code",
   "execution_count": 53,
   "metadata": {},
   "outputs": [
    {
     "data": {
      "text/plain": [
       "[119548]"
      ]
     },
     "execution_count": 53,
     "metadata": {},
     "output_type": "execute_result"
    }
   ],
   "source": [
    "tokenizer.convert_tokens_to_ids(['<_te_>'])"
   ]
  },
  {
   "cell_type": "code",
   "execution_count": 54,
   "metadata": {},
   "outputs": [],
   "source": [
    "tokenizer.eos_token_id"
   ]
  },
  {
   "cell_type": "code",
   "execution_count": 55,
   "metadata": {},
   "outputs": [
    {
     "data": {
      "text/plain": [
       "102"
      ]
     },
     "execution_count": 55,
     "metadata": {},
     "output_type": "execute_result"
    }
   ],
   "source": [
    "tokenizer.sep_token_id"
   ]
  },
  {
   "cell_type": "code",
   "execution_count": 56,
   "metadata": {},
   "outputs": [],
   "source": [
    "# Tokenizing source and target languages\n",
    "\n",
    "tokenized_english_tel = tokenizer(\n",
    "    sample_valid_english_eng_tel_sentences,\n",
    "    padding = \"max_length\",\n",
    "    truncation = True,\n",
    "    max_length = max_seq_length,\n",
    "    return_tensors = \"pt\"\n",
    ")\n",
    "\n",
    "tokenized_english_hin = tokenizer(\n",
    "    sample_valid_english_eng_hin_sentences,\n",
    "    padding = \"max_length\",\n",
    "    truncation = True,\n",
    "    max_length = max_seq_length,\n",
    "    return_tensors = \"pt\"\n",
    ")"
   ]
  },
  {
   "cell_type": "code",
   "execution_count": 57,
   "metadata": {},
   "outputs": [],
   "source": [
    "# Tokenizing target telugu and hindi sentences\n",
    "\n",
    "tokenized_telugu = tokenizer(\n",
    "    sample_valid_telugu_sentences,\n",
    "    padding = \"max_length\",\n",
    "    truncation = True,\n",
    "    max_length = max_seq_length,\n",
    "    return_tensors = \"pt\"\n",
    ")\n",
    "\n",
    "tokenized_hindi = tokenizer(\n",
    "    sample_valid_hindi_sentences,\n",
    "    padding = \"max_length\",\n",
    "    truncation = True,\n",
    "    max_length = max_seq_length,\n",
    "    return_tensors = \"pt\"\n",
    ")"
   ]
  },
  {
   "cell_type": "code",
   "execution_count": 58,
   "metadata": {},
   "outputs": [
    {
     "name": "stdout",
     "output_type": "stream",
     "text": [
      "In reply, Pakistan got off to a solid start.\n",
      "Tokenized sample English to Hindi Sentence: [CLS] <_hi_> जिसके जवाब में पाक ने अच्छी शुरुआत की थी. [SEP] [PAD] [PAD] [PAD] [PAD] [PAD] [PAD] [PAD] [PAD] [PAD] [PAD] [PAD] [PAD] [PAD] [PAD] [PAD] [PAD] [PAD] [PAD] [PAD] [PAD] [PAD] [PAD] [PAD] [PAD] [PAD] [PAD] [PAD] [PAD] [PAD] [PAD] [PAD] [PAD] [PAD] [PAD] [PAD] [PAD] [PAD] [PAD] [PAD] [PAD] [PAD] [PAD] [PAD] [PAD] [PAD] [PAD] [PAD] [PAD] [PAD] [PAD] [PAD] [PAD] [PAD] [PAD] [PAD] [PAD] [PAD] [PAD] [PAD] [PAD] [PAD] [PAD] [PAD] [PAD] [PAD] [PAD] [PAD] [PAD] [PAD] [PAD] [PAD] [PAD] [PAD] [PAD] [PAD] [PAD] [PAD] [PAD] [PAD] [PAD] [PAD] [PAD] [PAD] [PAD] [PAD] [PAD] [PAD] [PAD] [PAD] [PAD] [PAD] [PAD] [PAD] [PAD] [PAD] [PAD] [PAD] [PAD] [PAD] [PAD] [PAD] [PAD] [PAD] [PAD] [PAD] [PAD] [PAD] [PAD] [PAD] [PAD] [PAD] [PAD] [PAD] [PAD] [PAD] [PAD] [PAD] [PAD] [PAD] [PAD] [PAD] [PAD] [PAD] [PAD] [PAD] [PAD] [PAD] [PAD] [PAD] [PAD] [PAD] [PAD] [PAD] [PAD] [PAD] [PAD] [PAD] [PAD] [PAD] [PAD] [PAD] [PAD] [PAD] [PAD] [PAD] [PAD] [PAD] [PAD] [PAD] [PAD] [PAD] [PAD] [PAD] [PAD] [PAD] [PAD] [PAD] [PAD] [PAD] [PAD] [PAD] [PAD] [PAD] [PAD] [PAD] [PAD] [PAD] [PAD] [PAD] [PAD] [PAD] [PAD] [PAD] [PAD] [PAD] [PAD] [PAD] [PAD] [PAD] [PAD] [PAD] [PAD] [PAD] [PAD] [PAD] [PAD] [PAD] [PAD] [PAD] [PAD] [PAD] [PAD] [PAD] [PAD] [PAD] [PAD] [PAD] [PAD] [PAD] [PAD] [PAD] [PAD] [PAD] [PAD] [PAD] [PAD] [PAD] [PAD] [PAD] [PAD] [PAD] [PAD] [PAD] [PAD] [PAD] [PAD] [PAD] [PAD] [PAD] [PAD] [PAD] [PAD] [PAD] [PAD] [PAD] [PAD] [PAD] [PAD] [PAD] [PAD] [PAD] [PAD] [PAD] [PAD] [PAD] [PAD] [PAD] [PAD] [PAD] [PAD] [PAD] [PAD] [PAD] [PAD] [PAD] [PAD] [PAD] [PAD] [PAD] [PAD] [PAD] [PAD] [PAD] [PAD] [PAD] [PAD] [PAD] [PAD] [PAD] [PAD] [PAD] [PAD] [PAD] [PAD] [PAD] [PAD] [PAD] [PAD] [PAD] [PAD] [PAD] [PAD] [PAD] [PAD] [PAD] [PAD] [PAD] [PAD] [PAD] [PAD]\n"
     ]
    }
   ],
   "source": [
    "print(sample_valid_english_eng_hin_sentences[0])\n",
    "print(f\"Tokenized sample English to Hindi Sentence: {tokenizer.decode(tokenized_hindi[\"input_ids\"][0])}\")"
   ]
  },
  {
   "cell_type": "code",
   "execution_count": 59,
   "metadata": {},
   "outputs": [
    {
     "name": "stdout",
     "output_type": "stream",
     "text": [
      "This is our great day that we have waited for, replied his companion, grabbing a rifle and making for the rooftop of the university. \n",
      "Tokenized sample English to Telugu Sentence: [CLS] <_te_> ఆ రోజు మరణించిన ఎనిమిదిమంది డిటో స్నేహితుల్లో ఆయన ఒకడు. [SEP] [PAD] [PAD] [PAD] [PAD] [PAD] [PAD] [PAD] [PAD] [PAD] [PAD] [PAD] [PAD] [PAD] [PAD] [PAD] [PAD] [PAD] [PAD] [PAD] [PAD] [PAD] [PAD] [PAD] [PAD] [PAD] [PAD] [PAD] [PAD] [PAD] [PAD] [PAD] [PAD] [PAD] [PAD] [PAD] [PAD] [PAD] [PAD] [PAD] [PAD] [PAD] [PAD] [PAD] [PAD] [PAD] [PAD] [PAD] [PAD] [PAD] [PAD] [PAD] [PAD] [PAD] [PAD] [PAD] [PAD] [PAD] [PAD] [PAD] [PAD] [PAD] [PAD] [PAD] [PAD] [PAD] [PAD] [PAD] [PAD] [PAD] [PAD] [PAD] [PAD] [PAD] [PAD] [PAD] [PAD] [PAD] [PAD] [PAD] [PAD] [PAD] [PAD] [PAD] [PAD] [PAD] [PAD] [PAD] [PAD] [PAD] [PAD] [PAD] [PAD] [PAD] [PAD] [PAD] [PAD] [PAD] [PAD] [PAD] [PAD] [PAD] [PAD] [PAD] [PAD] [PAD] [PAD] [PAD] [PAD] [PAD] [PAD] [PAD] [PAD] [PAD] [PAD] [PAD] [PAD] [PAD] [PAD] [PAD] [PAD] [PAD] [PAD] [PAD] [PAD] [PAD] [PAD] [PAD] [PAD] [PAD] [PAD] [PAD] [PAD] [PAD] [PAD] [PAD] [PAD] [PAD] [PAD] [PAD] [PAD] [PAD] [PAD] [PAD] [PAD] [PAD] [PAD] [PAD] [PAD] [PAD] [PAD] [PAD] [PAD] [PAD] [PAD] [PAD] [PAD] [PAD] [PAD] [PAD] [PAD] [PAD] [PAD] [PAD] [PAD] [PAD] [PAD] [PAD] [PAD] [PAD] [PAD] [PAD] [PAD] [PAD] [PAD] [PAD] [PAD] [PAD] [PAD] [PAD] [PAD] [PAD] [PAD] [PAD] [PAD] [PAD] [PAD] [PAD] [PAD] [PAD] [PAD] [PAD] [PAD] [PAD] [PAD] [PAD] [PAD] [PAD] [PAD] [PAD] [PAD] [PAD] [PAD] [PAD] [PAD] [PAD] [PAD] [PAD] [PAD] [PAD] [PAD] [PAD] [PAD] [PAD] [PAD] [PAD] [PAD] [PAD] [PAD] [PAD] [PAD] [PAD] [PAD] [PAD] [PAD] [PAD] [PAD] [PAD] [PAD] [PAD] [PAD] [PAD] [PAD] [PAD] [PAD] [PAD] [PAD] [PAD] [PAD] [PAD] [PAD] [PAD] [PAD] [PAD] [PAD] [PAD] [PAD] [PAD] [PAD] [PAD] [PAD] [PAD] [PAD] [PAD] [PAD] [PAD] [PAD] [PAD] [PAD] [PAD] [PAD] [PAD] [PAD] [PAD] [PAD] [PAD] [PAD] [PAD] [PAD] [PAD] [PAD]\n"
     ]
    }
   ],
   "source": [
    "print(sample_valid_english_eng_tel_sentences[0])\n",
    "print(f\"Tokenized sample English to Telugu Sentence: {tokenizer.decode(tokenized_telugu[\"input_ids\"][0])}\")"
   ]
  },
  {
   "cell_type": "code",
   "execution_count": 60,
   "metadata": {},
   "outputs": [
    {
     "data": {
      "text/plain": [
       "'<_te_>ఆ రోజు మరణించిన ఎనిమిదిమంది డిటో స్నేహితుల్లో ఆయన ఒకడు.'"
      ]
     },
     "execution_count": 60,
     "metadata": {},
     "output_type": "execute_result"
    }
   ],
   "source": [
    "sample_valid_telugu_sentences[0]"
   ]
  },
  {
   "cell_type": "code",
   "execution_count": 61,
   "metadata": {},
   "outputs": [],
   "source": [
    "# Combining English and Hindi/Telugu Sentences\n",
    "data = {\n",
    "    \"source\": sample_valid_english_eng_hin_sentences + sample_valid_english_eng_tel_sentences,\n",
    "    \"target\": sample_valid_hindi_sentences + sample_valid_telugu_sentences\n",
    "}"
   ]
  },
  {
   "cell_type": "code",
   "execution_count": null,
   "metadata": {},
   "outputs": [],
   "source": []
  },
  {
   "cell_type": "markdown",
   "metadata": {},
   "source": [
    "<!-- ### Preprocess Data using SentencePiece Tokenizer -->"
   ]
  },
  {
   "cell_type": "code",
   "execution_count": 62,
   "metadata": {},
   "outputs": [],
   "source": [
    "# def preprocess_sentences(sentences, sp, max_seq_length):\n",
    "\n",
    "#     # Tokenize and pad sequences\n",
    "#     tokenized_sentences = [sp.encode_as_ids(sentence) for sentence in sentences]\n",
    "#     padded_sentences = [\n",
    "#         ids[:max_seq_length] + [0] * (max_seq_length - len(ids)) # this pads the sentence to max_seq_length\n",
    "#         if len(ids) < max_seq_length  else ids[:max_seq_length]\n",
    "#         for ids in tokenized_sentences\n",
    "#     ]\n",
    "#     return torch.tensor(padded_sentences)\n",
    "# # preprocess english to hindi dataset\n",
    "# tokenized_english_hi = preprocess_sentences(sample_valid_english_eng_hin_sentences, sp= sp, max_seq_length= max_seq_length)\n",
    "# tokenized_hindi = preprocess_sentences(sample_valid_hindi_sentences, sp, max_seq_length)\n",
    "\n",
    "# # preprocess english to telugu dataset\n",
    "# tokenized_english_te = preprocess_sentences(sample_valid_english_eng_tel_sentences, sp, max_seq_length)\n",
    "# tokenized_telugu = preprocess_sentences(sample_valid_telugu_sentences, sp, max_seq_length)\n",
    "# # Now we combine the english sentences from source english to hindi and source english to telugu sentences and target sentences differently\n",
    "# combined_english = {\n",
    "#     \"input_ids\": torch.cat((tokenized_english_hi, tokenized_english_te)),\n",
    "#     \"attention_mask\": torch.cat((torch.ones_like(tokenized_english_hi), torch.ones_like(tokenized_english_te)))\n",
    "# }\n",
    "\n",
    "# combined_target = {\n",
    "#     \"input_ids\": torch.cat((tokenized_hindi, tokenized_telugu)),\n",
    "#     \"attention_mask\": torch.cat((torch.ones_like(tokenized_hindi), torch.ones_like(tokenized_telugu)))\n",
    "# }\n",
    "# hi_token_ids = sp.encode_as_ids(\"_<hi> \")\n",
    "# te_token_ids = sp.encode_as_ids(\"_<te> \")\n",
    "\n",
    "# print(f\"Token ID for _<hi> : {hi_token_ids}\")\n",
    "# print(f\"Token ID for _<te> : {te_token_ids}\")\n",
    "# hi_decoded = sp.decode_ids(hi_token_ids)\n",
    "# te_decoded = sp.decode_ids(te_token_ids)\n",
    "\n",
    "# print(f\"Decoded text for _<hi> : {hi_decoded}\")\n",
    "# print(f\"Decoded text for _<te> : {te_decoded}\")\n",
    "# tokenizer = AutoTokenizer.from_pretrained(\"ai4bharat/indic-bert\", use_fast=True)\n",
    "# print(\"Updated Vocabulary Size:\", tokenizer.vocab_size)\n",
    "# # defining special tokens for language specific sentences before we actually tokenize the whole sentences\n",
    "# language_specific_tokens = {\"hi\":\"<hi>\", \"te\":\"<te>\"}\n",
    "\n",
    "# print(list(language_specific_tokens.values()))\n",
    "# # adding special tokens explicitly to the tokenizer - \n",
    "# tokenizer.add_special_tokens({\"additional_special_tokens\": list(language_specific_tokens.values())})\n",
    "# print(tokenizer.vocab_size)\n",
    "# print(list[language_specific_tokens.values()])\n",
    "# lang_token_ids = {tokenizer.convert_tokens_to_ids(token) for token in language_specific_tokens.values()}\n",
    "# print(\"Special Token IDs:\", lang_token_ids)\n",
    "# text = \"This is a <hi> Hindi sentence. <te> Telugu sentence.\"\n",
    "# tokenized_text = tokenizer(text)\n",
    "# print(tokenized_text.input_ids)\n",
    "# tokenizer.vocab_size\n",
    "# # Check if special tokens are in the tokenizer\n",
    "# print(f\"<hi> ID: {tokenizer.convert_tokens_to_ids('<hi>')}\")\n",
    "# print(f\"<te> ID: {tokenizer.convert_tokens_to_ids('<te>')}\")\n",
    "# print(f\"Special tokens map: {tokenizer.special_tokens_map}\")\n",
    "# print(f\"All special tokens: {tokenizer.all_special_tokens}\")\n",
    "# # English-to-Hindi dataset\n",
    "# tokenized_english_en_hi_sentence = tokenizer(sample_valid_english_eng_hin_sentences, \n",
    "#                                              padding= \"max_length\", \n",
    "#                                              truncation= True, \n",
    "#                                              max_length= max_seq_length, \n",
    "#                                              return_tensors= \"pt\")\n",
    "\n",
    "# tokenized_hindi_sentence = tokenizer(sample_valid_hindi_sentences, \n",
    "#                                      padding= \"max_length\", \n",
    "#                                      truncation= True, \n",
    "#                                      max_length= max_seq_length, \n",
    "#                                      return_tensors= \"pt\")\n",
    "# # English to Telugu Dataset\n",
    "# tokenized_english_en_te_sentence = tokenizer(sample_valid_english_eng_tel_sentences, \n",
    "#                                              padding= \"max_length\", \n",
    "#                                              truncation= True, \n",
    "#                                              max_length= max_seq_length, \n",
    "#                                              return_tensors= \"pt\")\n",
    "\n",
    "# tokenized_telugu_sentence = tokenizer(sample_valid_telugu_sentences, \n",
    "#                                       padding= \"max_length\", \n",
    "#                                       truncation= True, \n",
    "#                                       max_length= max_seq_length, \n",
    "#                                       return_tensors=\"pt\")\n",
    "# tokenized_english_en_hi_sentence.keys()\n",
    "# # Verify that the special tokens are added\n",
    "# lang_token_ids = {lang: tokenizer.convert_tokens_to_ids(token) for lang, token in language_specific_tokens.items()}\n",
    "# print(\"Language Token IDs:\", lang_token_ids)  # Ensure unique IDs for `<hi>` and `<te>`\n",
    "# # Tokenize a sample sentence with a prepended token\n",
    "# sample_sentence = \"<hi> This is a test sentence for Hindi.\"\n",
    "# sample_tokenized = tokenizer(sample_sentence, return_tensors=\"pt\", padding=\"max_length\", truncation=True, max_length=max_seq_length)\n",
    "\n",
    "# # Inspect input IDs\n",
    "# print(\"Tokenized Input IDs:\", sample_tokenized[\"input_ids\"])\n",
    "# print(\"Special Token ID for <hi>:\", lang_token_ids[\"hi\"])\n",
    "# lang_token_ids[\"te\"]\n",
    "# sample_te_sentence = \"<te> ఇది తెలుగులో పరీక్ష వాక్యం.\"\n",
    "# tokenized_te = tokenizer(sample_te_sentence, return_tensors=\"pt\", padding=\"max_length\", truncation=True, max_length=max_seq_length)\n",
    "# print(\"Special Token ID for <te>:\", lang_token_ids[\"te\"])\n",
    "# assert lang_token_ids[\"te\"] in tokenized_te[\"input_ids\"]\n",
    "# print(\"Vocabulary size:\", tokenizer.vocab_size)\n",
    "# # combined datasets\n",
    "# combined_english = {\n",
    "#     \"input_ids\": torch.cat((tokenized_english_en_hi_sentence[\"input_ids\"], tokenized_english_en_te_sentence[\"input_ids\"])),\n",
    "#     \"attention_mask\": torch.cat((tokenized_english_en_hi_sentence[\"attention_mask\"], tokenized_english_en_te_sentence[\"attention_mask\"]))\n",
    "# }\n",
    "\n",
    "# combined_target = {\n",
    "#     \"input_ids\": torch.cat((tokenized_hindi_sentence[\"input_ids\"], tokenized_telugu_sentence[\"input_ids\"])),\n",
    "#     \"attention_mask\": torch.cat((tokenized_hindi_sentence[\"attention_mask\"], tokenized_telugu_sentence[\"attention_mask\"]))\n",
    "# }\n",
    "# combined_english\n",
    "# # checking shapes\n",
    "# print(\"Encoder input shape:\", combined_english[\"input_ids\"].shape)\n",
    "# print(\"Decoder input shape:\", combined_target[\"input_ids\"].shape)\n",
    "# # Combined lists of source english and target hindi and telugu language sentences into single list to pass into custom dataset\n",
    "\n",
    "# # combined source english\n",
    "# combined_source_english_sentences = sample_valid_english_eng_hin_sentences + sample_valid_english_eng_tel_sentences\n",
    "# combined_target_sentences = sample_valid_hindi_sentences + sample_valid_telugu_sentences\n",
    "\n",
    "# # create data dictionary\n",
    "\n",
    "# data = {\n",
    "#     \"source\": combined_source_english_sentences,\n",
    "#     \"target\": combined_target_sentences\n",
    "# }\n",
    "# print(\"Language Token IDs:\", lang_token_ids)\n",
    "# print(\"Sample tokenized input IDs:\", sample_tokenized[\"input_ids\"])\n",
    "# assert lang_token_ids[\"hi\"] in sample_tokenized[\"input_ids\"]\n",
    "# print(\"Updated Vocabulary Size:\", tokenizer.vocab_size)\n",
    "# for token in language_specific_tokens.values():\n",
    "#     assert token in tokenizer.get_vocab(), f\"Token {token} not found in vocabulary!\"\n",
    "# print(\"Total source english sentences\", len(data[\"source\"]))\n",
    "# print(\"Total target hindi and telugu sentences\", len(data[\"target\"]))\n",
    "# for i in range(3):\n",
    "#     print(f\"Source Sentence {data[\"source\"][i]}\")\n",
    "#     print(f\"target sentence {data[\"target\"][i]}\")\n",
    "#     print(\"*********\")\n",
    "# for i in range(-4,-1):\n",
    "#     print(f\"Source Sentence {data[\"source\"][i]}\")\n",
    "#     print(f\"target sentence {data[\"target\"][i]}\")\n",
    "#     print(\"*********\")"
   ]
  },
  {
   "cell_type": "code",
   "execution_count": 63,
   "metadata": {},
   "outputs": [],
   "source": [
    "NEG_INFTY = 1e-9"
   ]
  },
  {
   "cell_type": "code",
   "execution_count": 64,
   "metadata": {},
   "outputs": [],
   "source": [
    "from torch.utils.data import Dataset, DataLoader\n",
    "\n",
    "class TranslationDataset(Dataset):\n",
    "    def __init__(self, data, tokenizer, d_model, max_seq_length, pad_token_id, device):\n",
    "        \"\"\"\n",
    "        Initializes the TranslationDataset by preparing encoder and decoder inputs with proper padding.\n",
    "        \"\"\"\n",
    "        self.device = device  # Store device for later use\n",
    "\n",
    "        # Prepare data using the tokenizer\n",
    "        encoder_inputs = tokenizer(\n",
    "            text=data[\"source\"],\n",
    "            padding=\"max_length\",\n",
    "            truncation=True,\n",
    "            max_length=max_seq_length,\n",
    "            return_tensors=\"pt\"\n",
    "        )\n",
    "        decoder_inputs = tokenizer(\n",
    "            text=data[\"target\"],\n",
    "            padding=\"max_length\",\n",
    "            truncation=True,\n",
    "            max_length=max_seq_length,\n",
    "            return_tensors=\"pt\"\n",
    "        )\n",
    "\n",
    "        # Move tokenized data to device\n",
    "        encoder_inputs = {k: v.to(device) for k, v in encoder_inputs.items()}\n",
    "        decoder_inputs = {k: v.to(device) for k, v in decoder_inputs.items()}\n",
    "\n",
    "        # Extract inputs and attention masks\n",
    "        self.encoder_input_ids = encoder_inputs[\"input_ids\"]\n",
    "        self.encoder_attention_mask = encoder_inputs[\"attention_mask\"]\n",
    "        self.decoder_input_ids = decoder_inputs[\"input_ids\"][:, :-1]  # Shift target by 1 for decoder\n",
    "        self.decoder_attention_mask = decoder_inputs[\"attention_mask\"][:, :-1]  # Match decoder sequence length\n",
    "\n",
    "        self.max_seq_length_encoder = self.encoder_input_ids.size(1)  # Dynamic seq length for encoder\n",
    "        self.max_seq_length_decoder = self.decoder_input_ids.size(1)  # Dynamic seq length for decoder\n",
    "        self.tokenizer = tokenizer\n",
    "        self.d_model = d_model\n",
    "        self.pad_token_id = pad_token_id\n",
    "\n",
    "        #print(f\"The shape of Encoder input IDs: {self.encoder_input_ids.shape}\")\n",
    "        #print(f\"The shape of Decoder input IDs: {self.decoder_input_ids.shape}\")\n",
    "\n",
    "        # Calculate sequence lengths from attention masks\n",
    "        self.encoder_seq_len = self.encoder_attention_mask.sum(dim=1).tolist()\n",
    "        self.decoder_seq_len = self.decoder_attention_mask.sum(dim=1).tolist()\n",
    "\n",
    "        # Generate masks\n",
    "        self.encoder_mask, self.decoder_self_attention_mask, self.cross_attention_mask = self.create_masks()\n",
    "\n",
    "    def __len__(self):\n",
    "        return self.encoder_input_ids.size(0)\n",
    "\n",
    "    def __getitem__(self, idx):\n",
    "\n",
    "        return {\n",
    "            \"encoder_input_ids\": self.encoder_input_ids[idx],\n",
    "            \"encoder_attention_mask\": self.encoder_attention_mask[idx],\n",
    "            \"decoder_input_ids\": self.decoder_input_ids[idx],\n",
    "            \"decoder_attention_mask\": self.decoder_attention_mask[idx],\n",
    "            \"cross_attention_mask\": self.cross_attention_mask[idx]\n",
    "        }\n",
    "\n",
    "    def create_padding_mask(self, sequence_lengths, max_seq_len):\n",
    "        \"\"\"\n",
    "        Creates padding masks for the input sequences.\n",
    "        Padding positions are marked as False (0) for valid tokens and True (1) for padding.\n",
    "        \"\"\"\n",
    "        batch_size = len(sequence_lengths)\n",
    "        mask = torch.ones((batch_size, max_seq_len), dtype=torch.bool, device=self.device)\n",
    "\n",
    "        for i, length in enumerate(sequence_lengths):\n",
    "            mask[i, :length] = False  # Valid positions are False\n",
    "\n",
    "        return mask\n",
    "\n",
    "    def create_look_ahead_mask(self, seq_len):\n",
    "        \"\"\"Creates a look-ahead mask to block future tokens for autoregressive decoding.\"\"\"\n",
    "        return torch.triu(torch.ones((seq_len, seq_len), dtype=torch.bool, device=self.device), diagonal=1)\n",
    "\n",
    "    def create_masks(self):\n",
    "        \"\"\"\n",
    "        Generates all required masks: encoder padding mask, decoder self-attention mask, and cross-attention mask.\n",
    "        \"\"\"\n",
    "        # Create padding masks\n",
    "        initial_encoder_padding_mask = self.create_padding_mask(self.encoder_seq_len, self.max_seq_length_encoder)\n",
    "        initial_decoder_padding_mask = self.create_padding_mask(self.decoder_seq_len, self.max_seq_length_decoder)\n",
    "        #print(\"The encoder padding mask generated is of shape - \", initial_encoder_padding_mask.shape)\n",
    "        #print(\"The decoder padding mask generated is of shape - \", initial_decoder_padding_mask.shape)\n",
    "\n",
    "        # Expand encoder padding mask for multi-head attention\n",
    "        encoder_mask = initial_encoder_padding_mask.unsqueeze(1).unsqueeze(2)  # Shape: (batch_size, 1, 1, encoder_seq_len)\n",
    "        #print(\"The generated encoder mask is of shape - \", encoder_mask.shape)\n",
    "\n",
    "        # Look-ahead mask for decoder\n",
    "        initial_decoder_self_attention_mask = self.create_look_ahead_mask(self.max_seq_length_decoder)\n",
    "        #print(\"The initial shape of decoder lookahead mask is - \", initial_decoder_self_attention_mask.shape)\n",
    "\n",
    "        # Unsqueeze and expand decoder padding mask\n",
    "        decoder_padding_mask = initial_decoder_padding_mask.unsqueeze(1).unsqueeze(2)  # Shape: (batch_size, 1, 1, decoder_seq_len)\n",
    "        #print(\"Unsqueezed decoder padding mask shape is - \", decoder_padding_mask.shape)\n",
    "\n",
    "        # Combine decoder padding mask with look-ahead mask for self-attention\n",
    "        #print(\"The decoder self attention mask is of shape - \", initial_decoder_self_attention_mask.shape)\n",
    "        decoder_self_attention_mask = initial_decoder_self_attention_mask.unsqueeze(0).unsqueeze(1)  # Shape: (1, 1, decoder_seq_len, decoder_seq_len)\n",
    "        #print(f\"After unsqueezing and adding dim at 0th and 1th position of decoder_self_attention_mask - {decoder_self_attention_mask.shape}\")\n",
    "        decoder_self_attention_mask = decoder_self_attention_mask | decoder_padding_mask  # Shape: (batch_size, 1, decoder_seq_len, decoder_seq_len)\n",
    "        #print(\"The decoder self attention mask generated is of shape - \", decoder_self_attention_mask.shape)\n",
    "\n",
    "        #print(\"Initial encoder padding mask used for cross attention mask\", initial_encoder_padding_mask.shape)\n",
    "        # Expand decoder padding mask for cross-attention\n",
    "        \n",
    "        # Correct Cross-Attention Mask: Use encoder padding mask for the cross-attention\n",
    "        cross_attention_mask = initial_encoder_padding_mask.unsqueeze(1).unsqueeze(2)\n",
    "        #print(\"Cross Attention mask generated unsqueezed is of shape - \",cross_attention_mask.shape)\n",
    "        cross_attention_mask =  cross_attention_mask.expand(-1, -1, self.max_seq_length_decoder, self.max_seq_length_encoder)\n",
    "        #print(\"The encoder decoder cross attention mask generated is of shape - \", cross_attention_mask.shape)\n",
    "\n",
    "        #cross_attention_mask = initial_decoder_self_attention_mask.expand(-1, -1, self.max_seq_length_decoder, self.max_seq_length_encoder)\n",
    "        #print(\"The encoder decoder cross attention mask generated is of shape - \", cross_attention_mask.shape)\n",
    "\n",
    "        print(\"---- APPLYING NEG INF TO MASKS ----\")\n",
    "\n",
    "        # Apply negative infinity values for masked positions\n",
    "        encoder_mask = encoder_mask.float().masked_fill(mask=encoder_mask, value=NEG_INFTY)\n",
    "        #print(\"The shape of encoder mask after adding -neg infinity values to 0 positions\", encoder_mask.shape)\n",
    "        decoder_self_attention_mask = decoder_self_attention_mask.float().masked_fill(mask=decoder_self_attention_mask, value=NEG_INFTY)\n",
    "        #print(\"The shape of decoder mask after adding -neg infinity values to 0 positions\", decoder_self_attention_mask.shape)\n",
    "        cross_attention_mask = cross_attention_mask.float().masked_fill(mask=cross_attention_mask, value=NEG_INFTY)\n",
    "        #print(\"The shape of encoder decoder cross attention mask after adding -neg infinity values to 0 positions\", cross_attention_mask.shape)\n",
    "\n",
    "\n",
    "        print(\"---- AFTER APPLYING NEG INFINITY TO THE MASKS ----\")\n",
    "\n",
    "        #print(f\"Encoder mask shape: {encoder_mask.shape}\")\n",
    "        #print(f\"Decoder self-attention mask shape: {decoder_self_attention_mask.shape}\")\n",
    "        #print(f\"Cross-attention mask shape: {cross_attention_mask.shape}\")\n",
    "\n",
    "        return encoder_mask, decoder_self_attention_mask, cross_attention_mask"
   ]
  },
  {
   "cell_type": "code",
   "execution_count": 65,
   "metadata": {},
   "outputs": [
    {
     "name": "stdout",
     "output_type": "stream",
     "text": [
      "---- APPLYING NEG INF TO MASKS ----\n",
      "---- AFTER APPLYING NEG INFINITY TO THE MASKS ----\n"
     ]
    }
   ],
   "source": [
    "# Initilization of dataset and dataloader\n",
    "\n",
    "# Initialize Dataset\n",
    "translation_dataset = TranslationDataset(\n",
    "    data=data,\n",
    "    tokenizer=tokenizer,\n",
    "    d_model=d_model,\n",
    "    max_seq_length=max_seq_length,\n",
    "    pad_token_id=tokenizer.pad_token_id,\n",
    "    device=device,\n",
    ")"
   ]
  },
  {
   "cell_type": "code",
   "execution_count": 66,
   "metadata": {},
   "outputs": [],
   "source": [
    "# Initialize DataLoader\n",
    "translation_dataloader = DataLoader(\n",
    "    dataset=translation_dataset,\n",
    "    batch_size=batch_size,\n",
    "    shuffle=True\n",
    ")"
   ]
  },
  {
   "cell_type": "code",
   "execution_count": 67,
   "metadata": {},
   "outputs": [
    {
     "name": "stdout",
     "output_type": "stream",
     "text": [
      "Encoder Input IDs: torch.Size([32, 300])\n",
      "Decoder Input IDs: torch.Size([32, 299])\n",
      "Encoder Mask: torch.Size([32, 300])\n",
      "Decoder Self-Attention Mask: torch.Size([32, 299])\n",
      "Cross-Attention Mask: torch.Size([32, 1, 299, 300])\n"
     ]
    }
   ],
   "source": [
    "# Verifying prepared data\n",
    "\n",
    "for batch in translation_dataloader:\n",
    "    print(\"Encoder Input IDs:\", batch[\"encoder_input_ids\"].shape)\n",
    "    print(\"Decoder Input IDs:\", batch[\"decoder_input_ids\"].shape)\n",
    "    print(\"Encoder Mask:\", batch[\"encoder_attention_mask\"].shape)\n",
    "    print(\"Decoder Self-Attention Mask:\", batch[\"decoder_attention_mask\"].shape)\n",
    "    print(\"Cross-Attention Mask:\", batch[\"cross_attention_mask\"].shape)\n",
    "    break"
   ]
  },
  {
   "cell_type": "code",
   "execution_count": 68,
   "metadata": {},
   "outputs": [],
   "source": [
    "class TransformerModel(nn.Module):\n",
    "    def __init__(self,\n",
    "                 d_model,\n",
    "                 vocab_size,\n",
    "                 num_heads,\n",
    "                 num_layers,\n",
    "                 drop_prob,\n",
    "                 max_seq_length,\n",
    "                 encoder_positional_encoder,\n",
    "                 decoder_positional_encoder,\n",
    "                 device):\n",
    "        super().__init__()\n",
    "        \n",
    "        self.device = device  # Store device\n",
    "        \n",
    "        # Embedding layers for encoder and decoder\n",
    "        self.encoder_embedding = nn.Embedding(tokenizer.vocab_size, d_model).to(device)\n",
    "        self.decoder_embedding = nn.Embedding(tokenizer.vocab_size, d_model).to(device)\n",
    "        \n",
    "        # Positional Encodings\n",
    "        self.encoder_positional_encoder = encoder_positional_encoder.to(device)\n",
    "        self.decoder_positional_encoder = decoder_positional_encoder.to(device)\n",
    "        \n",
    "        # Encoder and decoder layers\n",
    "        self.encoder = EncoderBlock(\n",
    "            d_model=d_model,\n",
    "            ffn_hidden=ffn_hidden,\n",
    "            num_heads=num_heads,\n",
    "            drop_prob=drop_prob,\n",
    "            num_layers=num_layers\n",
    "        ).to(device)\n",
    "        self.decoder = DecoderLayer(\n",
    "            d_model=d_model,\n",
    "            ffn_hidden=ffn_hidden,\n",
    "            drop_prob=drop_prob,\n",
    "            num_heads=num_heads\n",
    "        ).to(device)\n",
    "        \n",
    "        # Output layer\n",
    "        self.output_layer = nn.Linear(in_features=d_model, out_features=vocab_size).to(device)\n",
    "\n",
    "    def forward(self, encoder_input_ids, encoder_attention_mask, decoder_input_ids, decoder_self_attention_mask, cross_attention_mask):\n",
    "        # Move inputs to device\n",
    "        encoder_input_ids = encoder_input_ids.to(self.device)\n",
    "        encoder_attention_mask = encoder_attention_mask.to(self.device)\n",
    "        decoder_input_ids = decoder_input_ids.to(self.device)\n",
    "        decoder_self_attention_mask = decoder_self_attention_mask.to(self.device)\n",
    "        cross_attention_mask = cross_attention_mask.to(self.device)\n",
    "        \n",
    "        # Apply embedding layers\n",
    "        encoder_embeds = self.encoder_embedding(encoder_input_ids)  # Shape: (batch_size, seq_len, d_model)\n",
    "        decoder_embeds = self.decoder_embedding(decoder_input_ids)  # Shape: (batch_size, seq_len, d_model)\n",
    "\n",
    "        # Add positional encodings\n",
    "        encoder_embeds += self.encoder_positional_encoder(encoder_embeds)\n",
    "        decoder_embeds += self.decoder_positional_encoder(decoder_embeds)\n",
    "        \n",
    "        # Encoder and decoder\n",
    "        #print(\"The encoder attention mask shape is  -\", encoder_attention_mask.shape)\n",
    "        encoder_output = self.encoder(encoder_embeds, encoder_attention_mask)\n",
    "        #print(f\"The Encoder Encoder output shape before passing to decoder: {encoder_output.shape}\")\n",
    "        #print(f\"The shape of decoder embeds which enter the decoder layers is {decoder_embeds.shape}\")\n",
    "        #print(f\"The decoder self attention mask shape is -\", decoder_self_attention_mask.shape)\n",
    "        #print(f\"The encoder decoder cross attention mask shape is - \", cross_attention_mask.shape)\n",
    "\n",
    "        decoder_output = self.decoder(encoder_output, decoder_embeds, decoder_self_attention_mask, cross_attention_mask)\n",
    "        \n",
    "        # Output logits\n",
    "        logits = self.output_layer(decoder_output)\n",
    "        return logits"
   ]
  },
  {
   "cell_type": "code",
   "execution_count": 69,
   "metadata": {},
   "outputs": [],
   "source": [
    "encoder_positional_encoder = PositionEncoding(d_model, max_seq_length)\n",
    "decoder_positional_encoder = PositionEncoding(d_model, max_seq_length)"
   ]
  },
  {
   "cell_type": "code",
   "execution_count": 70,
   "metadata": {},
   "outputs": [],
   "source": [
    "transformer_model = TransformerModel(d_model=d_model,\n",
    "                                     vocab_size= total_vocab_size,\n",
    "                                     num_heads= num_heads,\n",
    "                                     num_layers= num_layers,\n",
    "                                     drop_prob= drop_prob,\n",
    "                                     max_seq_length= max_seq_length,\n",
    "                                     encoder_positional_encoder= encoder_positional_encoder,\n",
    "                                     decoder_positional_encoder= decoder_positional_encoder,\n",
    "                                     device=device)"
   ]
  },
  {
   "cell_type": "code",
   "execution_count": 71,
   "metadata": {},
   "outputs": [],
   "source": [
    "transformer_model.encoder_embedding = nn.Embedding(total_vocab_size, d_model).to(device)\n",
    "transformer_model.decoder_embedding = nn.Embedding(total_vocab_size, d_model).to(device)"
   ]
  },
  {
   "cell_type": "code",
   "execution_count": 72,
   "metadata": {},
   "outputs": [
    {
     "name": "stdout",
     "output_type": "stream",
     "text": [
      "Max Encoder Input ID: 110436\n",
      "Max Decoder Input ID: 119548\n"
     ]
    }
   ],
   "source": [
    "for batch in translation_dataloader:\n",
    "    print(\"Max Encoder Input ID:\", batch[\"encoder_input_ids\"].max().item())\n",
    "    print(\"Max Decoder Input ID:\", batch[\"decoder_input_ids\"].max().item())\n",
    "    break"
   ]
  },
  {
   "cell_type": "code",
   "execution_count": 73,
   "metadata": {},
   "outputs": [],
   "source": [
    "tokenizer.eos_token_id"
   ]
  },
  {
   "cell_type": "code",
   "execution_count": 74,
   "metadata": {},
   "outputs": [
    {
     "name": "stdout",
     "output_type": "stream",
     "text": [
      "<_hi_>मंत्रालय ने कहा कि उड़े देश का आम नागरिक यानी उड़ान योजना के तहत अब तक कुल 766 मार्गों को मंजूरी दी गई है।\n",
      "tensor([[   101, 119547,  61881,    872,  28960,  18351,  10532,    885,  11208,\n",
      "          12151,  13088,    851,  16940,  33345,  10914, 110065,  10826,  15837,\n",
      "            119,    102]])\n"
     ]
    }
   ],
   "source": [
    "print(sample_valid_hindi_sentences[99])\n",
    "tokenized_target = tokenizer(sample_valid_hindi_sentences[0], return_tensors=\"pt\", add_special_tokens=True)\n",
    "print(tokenized_target[\"input_ids\"])"
   ]
  },
  {
   "cell_type": "code",
   "execution_count": null,
   "metadata": {},
   "outputs": [],
   "source": []
  },
  {
   "cell_type": "code",
   "execution_count": 75,
   "metadata": {},
   "outputs": [
    {
     "data": {
      "text/plain": [
       "119549"
      ]
     },
     "execution_count": 75,
     "metadata": {},
     "output_type": "execute_result"
    }
   ],
   "source": [
    "total_vocab_size"
   ]
  },
  {
   "cell_type": "code",
   "execution_count": 76,
   "metadata": {},
   "outputs": [
    {
     "name": "stdout",
     "output_type": "stream",
     "text": [
      "All Special Tokens: ['[UNK]', '[SEP]', '[PAD]', '[CLS]', '[MASK]', '<_hi_>', '<_te_>']\n"
     ]
    }
   ],
   "source": [
    "print(\"All Special Tokens:\", tokenizer.all_special_tokens)"
   ]
  },
  {
   "cell_type": "code",
   "execution_count": 77,
   "metadata": {},
   "outputs": [
    {
     "name": "stdout",
     "output_type": "stream",
     "text": [
      "Tokenizer vocabulary for '<_hi_>': 119547\n",
      "Tokenizer vocabulary for '<hi>': 100\n",
      "Tokenizer vocabulary for '<_te_>': 119548\n",
      "Tokenizer vocabulary for '<te>': 100\n",
      "Token ID for <_hi_>: 119547\n",
      "Token ID for <_te_>: 119548\n",
      "Total Vocabulary Size: 119549\n"
     ]
    }
   ],
   "source": [
    "hi_id = tokenizer.convert_tokens_to_ids('<_hi_>')\n",
    "te_id = tokenizer.convert_tokens_to_ids('<_te_>')\n",
    "\n",
    "print(f\"Tokenizer vocabulary for '<_hi_>': {tokenizer.convert_tokens_to_ids('<_hi_>')}\")\n",
    "print(f\"Tokenizer vocabulary for '<hi>': {tokenizer.convert_tokens_to_ids('<hi>')}\")\n",
    "print(f\"Tokenizer vocabulary for '<_te_>': {tokenizer.convert_tokens_to_ids('<_te_>')}\")\n",
    "print(f\"Tokenizer vocabulary for '<te>': {tokenizer.convert_tokens_to_ids('<te>')}\")\n",
    "\n",
    "print(f\"Token ID for <_hi_>: {hi_id}\")\n",
    "print(f\"Token ID for <_te_>: {te_id}\")\n",
    "print(f\"Total Vocabulary Size: {total_vocab_size}\")\n",
    "\n",
    "assert hi_id < total_vocab_size, \"Token ID for <_hi_> exceeds total vocab size!\"\n",
    "assert te_id < total_vocab_size, \"Token ID for <_te_> exceeds total vocab size!\""
   ]
  },
  {
   "cell_type": "code",
   "execution_count": 78,
   "metadata": {},
   "outputs": [
    {
     "name": "stdout",
     "output_type": "stream",
     "text": [
      "Sample decoder input IDs:\n",
      "tensor([   101, 119547,    885,  63750,  28863,  69684,  11549,    899,  46354,\n",
      "         53271,  13088,    887,  13537,  15168,  14117,  27692,  85032,  10914,\n",
      "         10412,  13182,  20190,  10914,  24072,  58935,  52433,  57134,  10826,\n",
      "         37920,  13537,  10412,  16208,    118,  16208,    855,  92191,  69002,\n",
      "         13184,    898,  27155,  34646,  69002,  14251,    118,  16192,  33270,\n",
      "         19966,  10826,  54930,  12151,  77073,  13286,  78029,  15236,  11072,\n",
      "         57136,  20549,  10569,    920,    102,      0,      0,      0,      0,\n",
      "             0,      0,      0,      0,      0,      0,      0,      0,      0,\n",
      "             0,      0,      0,      0,      0,      0,      0,      0,      0,\n",
      "             0,      0,      0,      0,      0,      0,      0,      0,      0,\n",
      "             0,      0,      0,      0,      0,      0,      0,      0,      0,\n",
      "             0,      0,      0,      0,      0,      0,      0,      0,      0,\n",
      "             0,      0,      0,      0,      0,      0,      0,      0,      0,\n",
      "             0,      0,      0,      0,      0,      0,      0,      0,      0,\n",
      "             0,      0,      0,      0,      0,      0,      0,      0,      0,\n",
      "             0,      0,      0,      0,      0,      0,      0,      0,      0,\n",
      "             0,      0,      0,      0,      0,      0,      0,      0,      0,\n",
      "             0,      0,      0,      0,      0,      0,      0,      0,      0,\n",
      "             0,      0,      0,      0,      0,      0,      0,      0,      0,\n",
      "             0,      0,      0,      0,      0,      0,      0,      0,      0,\n",
      "             0,      0,      0,      0,      0,      0,      0,      0,      0,\n",
      "             0,      0,      0,      0,      0,      0,      0,      0,      0,\n",
      "             0,      0,      0,      0,      0,      0,      0,      0,      0,\n",
      "             0,      0,      0,      0,      0,      0,      0,      0,      0,\n",
      "             0,      0,      0,      0,      0,      0,      0,      0,      0,\n",
      "             0,      0,      0,      0,      0,      0,      0,      0,      0,\n",
      "             0,      0,      0,      0,      0,      0,      0,      0,      0,\n",
      "             0,      0,      0,      0,      0,      0,      0,      0,      0,\n",
      "             0,      0,      0,      0,      0,      0,      0,      0,      0,\n",
      "             0,      0,      0,      0,      0,      0,      0,      0,      0,\n",
      "             0,      0,      0,      0,      0,      0,      0,      0,      0,\n",
      "             0,      0,      0,      0,      0,      0,      0,      0,      0,\n",
      "             0,      0,      0,      0,      0,      0,      0,      0,      0,\n",
      "             0,      0])\n",
      "Decoded tokens:\n",
      "['[CLS]', '<_hi_>', 'प', '##्रो', '##फ', '##ेस', '##र', 'ह', '##िर', '##ानी', 'ने', 'ब', '##ता', '##या', 'कि', 'किसी', 'रोग', '##ी', 'के', 'लिए', 'प्रभाव', '##ी', 'वे', '##ंट', '##िले', '##टर', 'की', 'उपलब्ध', '##ता', 'के', 'साथ', '-', 'साथ', 'उ', '##पस', '##्थ', '##ित', 'स', '##्व', '##ास', '##्थ', '##्य', '-', 'कर', '##्म', '##ियों', 'की', 'प्रति', '##क', '##्रिया', 'भी', 'समान', 'रूप', 'से', 'महत्वपूर्ण', 'होती', 'है', '।', '[SEP]', '[PAD]', '[PAD]', '[PAD]', '[PAD]', '[PAD]', '[PAD]', '[PAD]', '[PAD]', '[PAD]', '[PAD]', '[PAD]', '[PAD]', '[PAD]', '[PAD]', '[PAD]', '[PAD]', '[PAD]', '[PAD]', '[PAD]', '[PAD]', '[PAD]', '[PAD]', '[PAD]', '[PAD]', '[PAD]', '[PAD]', '[PAD]', '[PAD]', '[PAD]', '[PAD]', '[PAD]', '[PAD]', '[PAD]', '[PAD]', '[PAD]', '[PAD]', '[PAD]', '[PAD]', '[PAD]', '[PAD]', '[PAD]', '[PAD]', '[PAD]', '[PAD]', '[PAD]', '[PAD]', '[PAD]', '[PAD]', '[PAD]', '[PAD]', '[PAD]', '[PAD]', '[PAD]', '[PAD]', '[PAD]', '[PAD]', '[PAD]', '[PAD]', '[PAD]', '[PAD]', '[PAD]', '[PAD]', '[PAD]', '[PAD]', '[PAD]', '[PAD]', '[PAD]', '[PAD]', '[PAD]', '[PAD]', '[PAD]', '[PAD]', '[PAD]', '[PAD]', '[PAD]', '[PAD]', '[PAD]', '[PAD]', '[PAD]', '[PAD]', '[PAD]', '[PAD]', '[PAD]', '[PAD]', '[PAD]', '[PAD]', '[PAD]', '[PAD]', '[PAD]', '[PAD]', '[PAD]', '[PAD]', '[PAD]', '[PAD]', '[PAD]', '[PAD]', '[PAD]', '[PAD]', '[PAD]', '[PAD]', '[PAD]', '[PAD]', '[PAD]', '[PAD]', '[PAD]', '[PAD]', '[PAD]', '[PAD]', '[PAD]', '[PAD]', '[PAD]', '[PAD]', '[PAD]', '[PAD]', '[PAD]', '[PAD]', '[PAD]', '[PAD]', '[PAD]', '[PAD]', '[PAD]', '[PAD]', '[PAD]', '[PAD]', '[PAD]', '[PAD]', '[PAD]', '[PAD]', '[PAD]', '[PAD]', '[PAD]', '[PAD]', '[PAD]', '[PAD]', '[PAD]', '[PAD]', '[PAD]', '[PAD]', '[PAD]', '[PAD]', '[PAD]', '[PAD]', '[PAD]', '[PAD]', '[PAD]', '[PAD]', '[PAD]', '[PAD]', '[PAD]', '[PAD]', '[PAD]', '[PAD]', '[PAD]', '[PAD]', '[PAD]', '[PAD]', '[PAD]', '[PAD]', '[PAD]', '[PAD]', '[PAD]', '[PAD]', '[PAD]', '[PAD]', '[PAD]', '[PAD]', '[PAD]', '[PAD]', '[PAD]', '[PAD]', '[PAD]', '[PAD]', '[PAD]', '[PAD]', '[PAD]', '[PAD]', '[PAD]', '[PAD]', '[PAD]', '[PAD]', '[PAD]', '[PAD]', '[PAD]', '[PAD]', '[PAD]', '[PAD]', '[PAD]', '[PAD]', '[PAD]', '[PAD]', '[PAD]', '[PAD]', '[PAD]', '[PAD]', '[PAD]', '[PAD]', '[PAD]', '[PAD]', '[PAD]', '[PAD]', '[PAD]', '[PAD]', '[PAD]', '[PAD]', '[PAD]', '[PAD]', '[PAD]', '[PAD]', '[PAD]', '[PAD]', '[PAD]', '[PAD]', '[PAD]', '[PAD]', '[PAD]', '[PAD]', '[PAD]', '[PAD]', '[PAD]', '[PAD]', '[PAD]', '[PAD]', '[PAD]', '[PAD]', '[PAD]', '[PAD]', '[PAD]', '[PAD]', '[PAD]', '[PAD]', '[PAD]', '[PAD]', '[PAD]', '[PAD]', '[PAD]', '[PAD]', '[PAD]', '[PAD]', '[PAD]', '[PAD]']\n"
     ]
    }
   ],
   "source": [
    "for batch in translation_dataloader:\n",
    "    print(\"Sample decoder input IDs:\")\n",
    "    print(batch[\"decoder_input_ids\"][0])  # First sentence in the batch\n",
    "    decoded_tokens = tokenizer.convert_ids_to_tokens(batch[\"decoder_input_ids\"][0].tolist())\n",
    "    print(\"Decoded tokens:\")\n",
    "    print(decoded_tokens)\n",
    "    break"
   ]
  },
  {
   "cell_type": "code",
   "execution_count": null,
   "metadata": {},
   "outputs": [],
   "source": []
  },
  {
   "cell_type": "code",
   "execution_count": 79,
   "metadata": {},
   "outputs": [
    {
     "name": "stdout",
     "output_type": "stream",
     "text": [
      "Logits Shape is - torch.Size([32, 299, 119549])\n"
     ]
    }
   ],
   "source": [
    "for batch in translation_dataloader:\n",
    "    logits = transformer_model(\n",
    "        encoder_input_ids=batch[\"encoder_input_ids\"],\n",
    "        encoder_attention_mask=batch[\"encoder_attention_mask\"],\n",
    "        decoder_input_ids=batch[\"decoder_input_ids\"],\n",
    "        decoder_self_attention_mask=batch[\"decoder_attention_mask\"],\n",
    "        cross_attention_mask=batch[\"cross_attention_mask\"])\n",
    "    print(\"Logits Shape is -\", logits.shape)\n",
    "    break"
   ]
  },
  {
   "cell_type": "code",
   "execution_count": 80,
   "metadata": {},
   "outputs": [
    {
     "data": {
      "text/plain": [
       "(119547, 119548)"
      ]
     },
     "execution_count": 80,
     "metadata": {},
     "output_type": "execute_result"
    }
   ],
   "source": [
    "hi_id = tokenizer.convert_tokens_to_ids(\"<_hi_>\")\n",
    "te_id = tokenizer.convert_tokens_to_ids(\"<_te_>\")\n",
    "hi_id, te_id"
   ]
  },
  {
   "cell_type": "code",
   "execution_count": 81,
   "metadata": {},
   "outputs": [],
   "source": [
    "# defining the loss function and optimizer\n",
    "criterion = nn.CrossEntropyLoss(ignore_index=tokenizer.pad_token_id)\n",
    "optimizer = torch.optim.Adam(params=transformer_model.parameters(), lr= learning_rate)"
   ]
  },
  {
   "cell_type": "code",
   "execution_count": 82,
   "metadata": {},
   "outputs": [],
   "source": [
    "# def train_model(model, dataloader, num_epochs, learning_rate, tokenizer, pad_token_id, device):\n",
    "#     \"\"\"\n",
    "#     Function to train the Transformer model for multilingual translation.\n",
    "#     Args:\n",
    "#         model (nn.Module): The Transformer model.\n",
    "#         dataloader (DataLoader): The DataLoader providing the training data.\n",
    "#         num_epochs (int): Number of training epochs.\n",
    "#         learning_rate (float): Learning rate for the optimizer.\n",
    "#         tokenizer (AutoTokenizer): Tokenizer for text processing.\n",
    "#         pad_token_id (int): Padding token ID for calculating loss.\n",
    "#         device (str): Device for training ('cuda' or 'cpu').\n",
    "#     Returns:\n",
    "#         model (nn.Module): The trained model.\n",
    "#         metrics (dict): Training metrics, including epoch and batch losses.\n",
    "#     \"\"\"\n",
    "#     # Move model to device\n",
    "#     model.to(device)\n",
    "#     metrics = {\"epoch_losses\": [], \n",
    "#                \"batch_loss\": [],\n",
    "#                \"language_specific_loss\": {\"hindi\": [], \"telugu\": []}}\n",
    "#     print(f\"Hindi Identifeir Token Id: {hi_id}, Telugu Identifier Token Id: {te_id}\")\n",
    "    \n",
    "#     # Training loop\n",
    "#     model.train()\n",
    "#     for epoch in range(num_epochs):\n",
    "#         epoch_loss = 0.0\n",
    "#         print(f\"Epoch {epoch + 1}/{num_epochs}\")\n",
    "\n",
    "#         for batch_idx, batch in enumerate(tqdm(dataloader, desc=\"Training\")):\n",
    "#             # Move batch data to device\n",
    "#             encoder_input_ids = batch[\"encoder_input_ids\"].to(device)\n",
    "#             encoder_attention_mask = batch[\"encoder_attention_mask\"].to(device)\n",
    "#             decoder_input_ids = batch[\"decoder_input_ids\"].to(device)\n",
    "#             decoder_attention_mask = batch[\"decoder_attention_mask\"].to(device)\n",
    "#             cross_attention_mask = batch[\"cross_attention_mask\"].to(device)\n",
    "\n",
    "#             # Prepare decoder target by shifting left\n",
    "#             target_ids = torch.cat([\n",
    "#                 decoder_input_ids[:, 1:], \n",
    "#                 torch.full((decoder_input_ids.size(0), 1), pad_token_id, dtype=torch.long, device=device)\n",
    "#             ], dim=1)  # Right-pad to match the shifted sequence\n",
    "\n",
    "#             # Debug: Count Hindi and Telugu sentences in the batch\n",
    "#             hi_count = (decoder_input_ids[:, 1] == hi_id).sum().item()\n",
    "#             te_count = (decoder_input_ids[:, 1] == te_id).sum().item()\n",
    "#             print(f\"Batch {batch_idx + 1}: Hindi: {hi_count}, Telugu: {te_count}\")\n",
    "\n",
    "#             # Forward pass\n",
    "#             logits = model(\n",
    "#                 encoder_input_ids=encoder_input_ids,\n",
    "#                 encoder_attention_mask=encoder_attention_mask,\n",
    "#                 decoder_input_ids=decoder_input_ids,\n",
    "#                 decoder_self_attention_mask=decoder_attention_mask,\n",
    "#                 cross_attention_mask=cross_attention_mask\n",
    "#             )\n",
    "\n",
    "#             # Reshape logits and target for loss calculation\n",
    "#             logits = logits.view(-1, logits.size(-1))  # Shape: (batch_size * seq_len, vocab_size)\n",
    "#             target_ids = target_ids.view(-1)  # Shape: (batch_size * seq_len)\n",
    "\n",
    "#             # Calculate loss\n",
    "#             loss = criterion(logits, target_ids)\n",
    "\n",
    "#             # Backpropagation and optimization\n",
    "#             optimizer.zero_grad()\n",
    "#             loss.backward()\n",
    "#             optimizer.step()\n",
    "\n",
    "#             # Log batch loss\n",
    "#             metrics[\"batch_loss\"].append(loss.item())\n",
    "\n",
    "#             # Accumulate epoch loss\n",
    "#             epoch_loss += loss.item()\n",
    "\n",
    "#             # Language Specific Loss\n",
    "#             batch_hi_loss = []\n",
    "#             batch_te_loss = []\n",
    "\n",
    "#             # Language Specific Loss - \n",
    "#             for i in range(decoder_input_ids.size(0)):\n",
    "#                 if decoder_input_ids[i, 1].item() == hi_id:\n",
    "#                     #metrics[\"language_specific_loss\"][\"hindi\"].append(loss.item())\n",
    "#                     batch_hi_loss.append(loss.item())\n",
    "#                 elif decoder_input_ids[i, 1].item() == te_id:\n",
    "#                     #metrics[\"language_specific_loss\"][\"telugu\"].append(loss.item())\n",
    "#                     batch_te_loss.append(loss.item())\n",
    "\n",
    "\n",
    "#             avg_batch_hi_loss = sum(batch_hi_loss) / len(batch_hi_loss) if batch_hi_loss else 0\n",
    "#             avg_batch_te_loss = sum(batch_te_loss) / len(batch_te_loss) if batch_te_loss else 0\n",
    "\n",
    "#             # Print batch metrics\n",
    "#             print(f\"Batch {batch_idx + 1} Loss: {loss.item():.4f}\")\n",
    "#             print(f\"Batch {batch_idx + 1} Average Hindi Language Loss: {avg_batch_hi_loss:.4f}\")\n",
    "#             print(f\"Batch {batch_idx + 1} Average Telugu Language Loss: {avg_batch_te_loss:.4f}\")\n",
    "\n",
    "#         # Compute average epoch loss\n",
    "#         average_epoch_loss = epoch_loss / len(dataloader)\n",
    "#         metrics[\"epoch_losses\"].append(average_epoch_loss)\n",
    "\n",
    "#         # Average language specific loss - \n",
    "#         avg_hi_loss = sum(metrics[\"language_specific_loss\"][\"hindi\"]) / len(metrics[\"language_specific_loss\"][\"hindi\"]) if metrics[\"language_specific_loss\"][\"hindi\"] else 0\n",
    "#         avg_te_loss = sum(metrics[\"language_specific_loss\"][\"telugu\"]) / len(metrics[\"language_specific_loss\"][\"telugu\"]) if metrics[\"language_specific_loss\"][\"telugu\"] else 0\n",
    "        \n",
    "#         # Print epoch loss\n",
    "#         print(f\"Epoch {epoch + 1} Loss: {average_epoch_loss:.4f}\")\n",
    "#         print(f\"Epoch {epoch + 1} Average Hindi Language Loss: {avg_hi_loss:.4f}\")\n",
    "#         print(f\"Epoch {epoch + 1} Average Telugu Language Loss: {avg_te_loss:.4f}\")\n",
    "\n",
    "#     print(\"Training complete.\")\n",
    "#     return model, metrics"
   ]
  },
  {
   "cell_type": "code",
   "execution_count": 83,
   "metadata": {},
   "outputs": [],
   "source": [
    "# def train_model(model, dataloader, num_epochs, learning_rate, tokenizer, pad_token_id, device):\n",
    "#     \"\"\"\n",
    "#     Function to train the Transformer model for multilingual translation.\n",
    "#     \"\"\"\n",
    "#     # Move model to device\n",
    "#     model.to(device)\n",
    "#     metrics = {\"epoch_losses\": [], \n",
    "#                \"batch_loss\": [],\n",
    "#                \"language_specific_loss\": {\"hindi\": [], \"telugu\": []}}\n",
    "    \n",
    "#     # Debug IDs\n",
    "#     hi_id = tokenizer.convert_tokens_to_ids(\"<_hi_>\")\n",
    "#     te_id = tokenizer.convert_tokens_to_ids(\"<_te_>\")\n",
    "#     print(f\"Hindi ID: {hi_id}, Telugu ID: {te_id}\")\n",
    "\n",
    "#     # Training loop\n",
    "#     model.train()\n",
    "#     for epoch in range(num_epochs):\n",
    "#         epoch_loss = 0.0\n",
    "#         print(f\"\\nEpoch {epoch + 1}/{num_epochs}\")\n",
    "\n",
    "#         for batch_idx, batch in enumerate(tqdm(dataloader, desc=\"Training\")):\n",
    "#             # Move batch data to device\n",
    "#             encoder_input_ids = batch[\"encoder_input_ids\"].to(device)\n",
    "#             encoder_attention_mask = batch[\"encoder_attention_mask\"].to(device)\n",
    "#             decoder_input_ids = batch[\"decoder_input_ids\"].to(device)\n",
    "#             decoder_attention_mask = batch[\"decoder_attention_mask\"].to(device)\n",
    "#             cross_attention_mask = batch[\"cross_attention_mask\"].to(device)\n",
    "\n",
    "#             # Prepare decoder target by shifting left\n",
    "#             target_ids = torch.cat([\n",
    "#                 decoder_input_ids[:, 1:], \n",
    "#                 torch.full((decoder_input_ids.size(0), 1), pad_token_id, dtype=torch.long, device=device)\n",
    "#             ], dim=1)  # Right-pad to match the shifted sequence\n",
    "\n",
    "#             # Debug: Count Hindi and Telugu sentences in the batch\n",
    "#             hi_count = (decoder_input_ids[:, 0] == hi_id).sum().item()\n",
    "#             te_count = (decoder_input_ids[:, 0] == te_id).sum().item()\n",
    "#             print(f\"Batch {batch_idx + 1}: Hindi: {hi_count}, Telugu: {te_count}\")\n",
    "\n",
    "#             # Forward pass\n",
    "#             logits = model(\n",
    "#                 encoder_input_ids=encoder_input_ids,\n",
    "#                 encoder_attention_mask=encoder_attention_mask,\n",
    "#                 decoder_input_ids=decoder_input_ids,\n",
    "#                 decoder_self_attention_mask=decoder_attention_mask,\n",
    "#                 cross_attention_mask=cross_attention_mask\n",
    "#             )\n",
    "\n",
    "#             # Reshape logits and target for loss calculation\n",
    "#             logits = logits.view(-1, logits.size(-1))  # Shape: (batch_size * seq_len, vocab_size)\n",
    "#             target_ids = target_ids.view(-1)  # Shape: (batch_size * seq_len)\n",
    "\n",
    "#             # Calculate loss\n",
    "#             loss = criterion(logits, target_ids)\n",
    "\n",
    "#             # Backpropagation and optimization\n",
    "#             optimizer.zero_grad()\n",
    "#             loss.backward()\n",
    "#             optimizer.step()\n",
    "\n",
    "#             # Log batch loss\n",
    "#             metrics[\"batch_loss\"].append(loss.item())\n",
    "\n",
    "#             # Accumulate epoch loss\n",
    "#             epoch_loss += loss.item()\n",
    "\n",
    "#             # Language-Specific Loss Tracking\n",
    "#             for i in range(decoder_input_ids.size(0)):\n",
    "#                 if decoder_input_ids[i, 0].item() == hi_id:\n",
    "#                     metrics[\"language_specific_loss\"][\"hindi\"].append(loss.item())\n",
    "#                 elif decoder_input_ids[i, 0].item() == te_id:\n",
    "#                     metrics[\"language_specific_loss\"][\"telugu\"].append(loss.item())\n",
    "\n",
    "#         # Compute average epoch loss\n",
    "#         average_epoch_loss = epoch_loss / len(dataloader)\n",
    "#         metrics[\"epoch_losses\"].append(average_epoch_loss)\n",
    "\n",
    "#         # Average language-specific loss\n",
    "#         avg_hi_loss = (\n",
    "#             sum(metrics[\"language_specific_loss\"][\"hindi\"]) /\n",
    "#             len(metrics[\"language_specific_loss\"][\"hindi\"]) \n",
    "#             if metrics[\"language_specific_loss\"][\"hindi\"] else 0\n",
    "#         )\n",
    "#         avg_te_loss = (\n",
    "#             sum(metrics[\"language_specific_loss\"][\"telugu\"]) /\n",
    "#             len(metrics[\"language_specific_loss\"][\"telugu\"]) \n",
    "#             if metrics[\"language_specific_loss\"][\"telugu\"] else 0\n",
    "#         )\n",
    "\n",
    "#         # Print epoch loss\n",
    "#         print(f\"Epoch {epoch + 1} Loss: {average_epoch_loss:.4f}\")\n",
    "#         print(f\"Epoch {epoch + 1} Average Hindi Language Loss: {avg_hi_loss:.4f}\")\n",
    "#         print(f\"Epoch {epoch + 1} Average Telugu Language Loss: {avg_te_loss:.4f}\")\n",
    "\n",
    "#     print(\"Training complete.\")\n",
    "#     return model, metrics"
   ]
  },
  {
   "cell_type": "code",
   "execution_count": 86,
   "metadata": {},
   "outputs": [],
   "source": [
    "def train_model(model, dataloader, num_epochs, learning_rate, tokenizer, pad_token_id, device):\n",
    "    \"\"\" Function to train the Transformer model for multilingual translation.\n",
    "\n",
    "    Args:\n",
    "        model (nn.Module): The Transformer model.\n",
    "        dataloader (DataLoader): The DataLoader providing the training data.\n",
    "        num_epochs (int): Number of training epochs.\n",
    "        learning_rate (float): Learning rate for the optimizer.\n",
    "        tokenizer (AutoTokenizer): Tokenizer for text processing.\n",
    "        pad_token_id (int): Padding token ID for calculating loss.\n",
    "        device (str): Device for training ('cuda' or 'cpu').\n",
    "\n",
    "    Returns:\n",
    "        model (nn.Module): The trained model.\n",
    "        metrics (dict): Training metrics, including epoch and batch losses.\n",
    "    \"\"\"\n",
    "\n",
    "    model.to(device)\n",
    "    metrics = {\"epoch_losses\": [], \"batch_loss\": [], \"language_specific_loss\": {\"hindi\": [], \"telugu\": []}}\n",
    "\n",
    "    # Training loop\n",
    "    model.train()\n",
    "    for epoch in range(num_epochs):\n",
    "        epoch_loss = 0.0\n",
    "        print(f\"Epoch {epoch + 1}/{num_epochs}\")\n",
    "        batch_losses = []  # Track batch losses for this epoch\n",
    "\n",
    "        for batch_idx, batch in enumerate(tqdm(dataloader, desc=\"Training\")):\n",
    "            # Move batch data to device\n",
    "            encoder_input_ids = batch[\"encoder_input_ids\"].to(device)\n",
    "            encoder_attention_mask = batch[\"encoder_attention_mask\"].to(device)\n",
    "            decoder_input_ids = batch[\"decoder_input_ids\"].to(device)\n",
    "            decoder_attention_mask = batch[\"decoder_attention_mask\"].to(device)\n",
    "            cross_attention_mask = batch[\"cross_attention_mask\"].to(device)\n",
    "\n",
    "            # Prepare decoder target by shifting left\n",
    "            target_ids = torch.cat([decoder_input_ids[:, 1:], torch.full((decoder_input_ids.size(0), 1), pad_token_id, dtype=torch.long, device=device)], dim=1)\n",
    "\n",
    "            # Forward pass\n",
    "            logits = model(\n",
    "                encoder_input_ids=encoder_input_ids,\n",
    "                encoder_attention_mask=encoder_attention_mask,\n",
    "                decoder_input_ids=decoder_input_ids,\n",
    "                decoder_self_attention_mask=decoder_attention_mask,\n",
    "                cross_attention_mask=cross_attention_mask,\n",
    "            )\n",
    "\n",
    "            # Reshape logits and target for loss calculation\n",
    "            logits = logits.view(-1, logits.size(-1))\n",
    "            target_ids = target_ids.view(-1)\n",
    "\n",
    "            # Calculate loss\n",
    "            loss = criterion(logits, target_ids)\n",
    "\n",
    "            # Backpropagation and optimization\n",
    "            optimizer.zero_grad()\n",
    "            loss.backward()\n",
    "            optimizer.step()\n",
    "\n",
    "            # Log batch loss\n",
    "            metrics[\"batch_loss\"].append(loss.item())\n",
    "            batch_losses.append(loss.item())\n",
    "\n",
    "            # Print every 400 batches\n",
    "            if (batch_idx + 1) % 400 == 0:\n",
    "                hi_count = (decoder_input_ids[:, 1] == hi_id).sum().item()\n",
    "                te_count = (decoder_input_ids[:, 1] == te_id).sum().item()\n",
    "                print(f\"Batch {batch_idx + 1}: Hindi: {hi_count}, Telugu: {te_count}\")\n",
    "\n",
    "        # Accumulate epoch loss\n",
    "        epoch_loss = sum(batch_losses)\n",
    "\n",
    "        # Language Specific Loss\n",
    "        language_specific_batch_losses = {\"hindi\": [], \"telugu\": []}\n",
    "        for i in range(decoder_input_ids.size(0)):\n",
    "            if decoder_input_ids[i, 1].item() == hi_id:\n",
    "                language_specific_batch_losses[\"hindi\"].append(loss.item())\n",
    "            elif decoder_input_ids[i, 1].item() == te_id:\n",
    "                language_specific_batch_losses[\"telugu\"].append(loss.item())\n",
    "\n",
    "        # Calculate average epoch loss and language specific losses\n",
    "        average_epoch_loss = epoch_loss / len(dataloader)\n",
    "        avg_hi_loss = sum(language_specific_batch_losses[\"hindi\"]) / len(language_specific_batch_losses[\"hindi\"]) if language_specific_batch_losses[\"hindi\"] else 0\n",
    "        avg_te_loss = sum(language_specific_batch_losses[\"telugu\"]) / len(language_specific_batch_losses[\"telugu\"]) if language_specific_batch_losses[\"telugu\"] else 0\n",
    "\n",
    "        # Print epoch loss and language-specific losses\n",
    "        print(f\"Epoch {epoch + 1} Loss: {average_epoch_loss:.4f}\")\n",
    "        print(f\"Epoch {epoch + 1} Average Hindi Language Loss: {avg_hi_loss:.4f}\")\n",
    "        print(f\"Epoch {epoch + 1} Average Telugu Language Loss: {avg_te_loss:.4f}\")\n",
    "        print(f\"Epoch {epoch + 1} Average Batch Loss: {sum(batch_losses) / len(batch_losses):.4f}\")\n",
    "\n",
    "        # Log epoch loss and language-specific losses to metrics\n",
    "        metrics[\"epoch_losses\"].append(average_epoch_loss)\n",
    "        metrics[\"language_specific_loss\"][\"hindi\"].append(avg_hi_loss)\n",
    "        metrics[\"language_specific_loss\"][\"telugu\"].append(avg_te_loss)\n",
    "\n",
    "    print(\"Training complete.\")\n",
    "    return model, metrics"
   ]
  },
  {
   "cell_type": "code",
   "execution_count": 87,
   "metadata": {},
   "outputs": [
    {
     "name": "stdout",
     "output_type": "stream",
     "text": [
      "Epoch 1/3\n"
     ]
    },
    {
     "name": "stderr",
     "output_type": "stream",
     "text": [
      "Training:  14%|█▍        | 400/2768 [2:05:25<11:42:45, 17.81s/it]  "
     ]
    },
    {
     "name": "stdout",
     "output_type": "stream",
     "text": [
      "Batch 400: Hindi: 17, Telugu: 15\n"
     ]
    },
    {
     "name": "stderr",
     "output_type": "stream",
     "text": [
      "Training:  29%|██▉       | 800/2768 [3:27:48<5:35:46, 10.24s/it] "
     ]
    },
    {
     "name": "stdout",
     "output_type": "stream",
     "text": [
      "Batch 800: Hindi: 19, Telugu: 13\n"
     ]
    },
    {
     "name": "stderr",
     "output_type": "stream",
     "text": [
      "Training:  43%|████▎     | 1200/2768 [5:01:17<4:18:14,  9.88s/it]  "
     ]
    },
    {
     "name": "stdout",
     "output_type": "stream",
     "text": [
      "Batch 1200: Hindi: 11, Telugu: 21\n"
     ]
    },
    {
     "name": "stderr",
     "output_type": "stream",
     "text": [
      "Training:  58%|█████▊    | 1600/2768 [6:44:53<10:23:14, 32.02s/it]  "
     ]
    },
    {
     "name": "stdout",
     "output_type": "stream",
     "text": [
      "Batch 1600: Hindi: 11, Telugu: 21\n"
     ]
    },
    {
     "name": "stderr",
     "output_type": "stream",
     "text": [
      "Training:  72%|███████▏  | 2000/2768 [10:30:37<1:48:07,  8.45s/it]  "
     ]
    },
    {
     "name": "stdout",
     "output_type": "stream",
     "text": [
      "Batch 2000: Hindi: 18, Telugu: 14\n"
     ]
    },
    {
     "name": "stderr",
     "output_type": "stream",
     "text": [
      "Training:  87%|████████▋ | 2400/2768 [18:58:52<3:21:21, 32.83s/it]  "
     ]
    },
    {
     "name": "stdout",
     "output_type": "stream",
     "text": [
      "Batch 2400: Hindi: 13, Telugu: 19\n"
     ]
    },
    {
     "name": "stderr",
     "output_type": "stream",
     "text": [
      "Training: 100%|██████████| 2768/2768 [19:49:45<00:00, 25.79s/it]  \n"
     ]
    },
    {
     "name": "stdout",
     "output_type": "stream",
     "text": [
      "Epoch 1 Loss: 1.9499\n",
      "Epoch 1 Average Hindi Language Loss: 0.6310\n",
      "Epoch 1 Average Telugu Language Loss: 0.6310\n",
      "Epoch 1 Average Batch Loss: 1.9499\n",
      "Epoch 2/3\n"
     ]
    },
    {
     "name": "stderr",
     "output_type": "stream",
     "text": [
      "Training:  14%|█▍        | 400/2768 [59:51<5:46:12,  8.77s/it] "
     ]
    },
    {
     "name": "stdout",
     "output_type": "stream",
     "text": [
      "Batch 400: Hindi: 11, Telugu: 21\n"
     ]
    },
    {
     "name": "stderr",
     "output_type": "stream",
     "text": [
      "Training:  29%|██▉       | 800/2768 [3:32:35<4:53:40,  8.95s/it]   "
     ]
    },
    {
     "name": "stdout",
     "output_type": "stream",
     "text": [
      "Batch 800: Hindi: 18, Telugu: 14\n"
     ]
    },
    {
     "name": "stderr",
     "output_type": "stream",
     "text": [
      "Training:  43%|████▎     | 1200/2768 [6:30:41<18:35:10, 42.67s/it]  "
     ]
    },
    {
     "name": "stdout",
     "output_type": "stream",
     "text": [
      "Batch 1200: Hindi: 14, Telugu: 18\n"
     ]
    },
    {
     "name": "stderr",
     "output_type": "stream",
     "text": [
      "Training:  58%|█████▊    | 1600/2768 [8:23:52<3:12:55,  9.91s/it]   "
     ]
    },
    {
     "name": "stdout",
     "output_type": "stream",
     "text": [
      "Batch 1600: Hindi: 14, Telugu: 18\n"
     ]
    },
    {
     "name": "stderr",
     "output_type": "stream",
     "text": [
      "Training:  72%|███████▏  | 2000/2768 [10:08:31<1:41:30,  7.93s/it] "
     ]
    },
    {
     "name": "stdout",
     "output_type": "stream",
     "text": [
      "Batch 2000: Hindi: 16, Telugu: 16\n"
     ]
    },
    {
     "name": "stderr",
     "output_type": "stream",
     "text": [
      "Training:  87%|████████▋ | 2400/2768 [12:20:04<1:04:56, 10.59s/it]  "
     ]
    },
    {
     "name": "stdout",
     "output_type": "stream",
     "text": [
      "Batch 2400: Hindi: 17, Telugu: 15\n"
     ]
    },
    {
     "name": "stderr",
     "output_type": "stream",
     "text": [
      "Training: 100%|██████████| 2768/2768 [13:14:10<00:00, 17.21s/it]  \n"
     ]
    },
    {
     "name": "stdout",
     "output_type": "stream",
     "text": [
      "Epoch 2 Loss: 0.2984\n",
      "Epoch 2 Average Hindi Language Loss: 0.1144\n",
      "Epoch 2 Average Telugu Language Loss: 0.1144\n",
      "Epoch 2 Average Batch Loss: 0.2984\n",
      "Epoch 3/3\n"
     ]
    },
    {
     "name": "stderr",
     "output_type": "stream",
     "text": [
      "Training:  14%|█▍        | 400/2768 [2:20:20<5:57:30,  9.06s/it]   "
     ]
    },
    {
     "name": "stdout",
     "output_type": "stream",
     "text": [
      "Batch 400: Hindi: 16, Telugu: 16\n"
     ]
    },
    {
     "name": "stderr",
     "output_type": "stream",
     "text": [
      "Training:  29%|██▉       | 800/2768 [9:20:35<14:33:14, 26.62s/it]  "
     ]
    },
    {
     "name": "stdout",
     "output_type": "stream",
     "text": [
      "Batch 800: Hindi: 18, Telugu: 14\n"
     ]
    },
    {
     "name": "stderr",
     "output_type": "stream",
     "text": [
      "Training:  43%|████▎     | 1200/2768 [10:56:39<3:55:33,  9.01s/it]  "
     ]
    },
    {
     "name": "stdout",
     "output_type": "stream",
     "text": [
      "Batch 1200: Hindi: 16, Telugu: 16\n"
     ]
    },
    {
     "name": "stderr",
     "output_type": "stream",
     "text": [
      "Training:  58%|█████▊    | 1600/2768 [13:35:14<2:53:22,  8.91s/it]   "
     ]
    },
    {
     "name": "stdout",
     "output_type": "stream",
     "text": [
      "Batch 1600: Hindi: 18, Telugu: 14\n"
     ]
    },
    {
     "name": "stderr",
     "output_type": "stream",
     "text": [
      "Training:  72%|███████▏  | 2000/2768 [15:58:09<1:50:04,  8.60s/it]  "
     ]
    },
    {
     "name": "stdout",
     "output_type": "stream",
     "text": [
      "Batch 2000: Hindi: 17, Telugu: 15\n"
     ]
    },
    {
     "name": "stderr",
     "output_type": "stream",
     "text": [
      "Training:  87%|████████▋ | 2400/2768 [17:10:18<56:17,  9.18s/it]    "
     ]
    },
    {
     "name": "stdout",
     "output_type": "stream",
     "text": [
      "Batch 2400: Hindi: 13, Telugu: 19\n"
     ]
    },
    {
     "name": "stderr",
     "output_type": "stream",
     "text": [
      "Training: 100%|██████████| 2768/2768 [18:02:52<00:00, 23.47s/it]"
     ]
    },
    {
     "name": "stdout",
     "output_type": "stream",
     "text": [
      "Epoch 3 Loss: 0.1546\n",
      "Epoch 3 Average Hindi Language Loss: 0.0734\n",
      "Epoch 3 Average Telugu Language Loss: 0.0734\n",
      "Epoch 3 Average Batch Loss: 0.1546\n",
      "Training complete.\n"
     ]
    },
    {
     "name": "stderr",
     "output_type": "stream",
     "text": [
      "\n"
     ]
    }
   ],
   "source": [
    "trained_model, training_metrics = train_model(\n",
    "    model=transformer_model,\n",
    "    dataloader=translation_dataloader,\n",
    "    num_epochs=num_epochs,\n",
    "    learning_rate=learning_rate,\n",
    "    tokenizer=tokenizer,\n",
    "    pad_token_id=tokenizer.pad_token_id,\n",
    "    device=device\n",
    ")"
   ]
  },
  {
   "cell_type": "markdown",
   "metadata": {},
   "source": [
    "### Saving the trained model state dict"
   ]
  },
  {
   "cell_type": "code",
   "execution_count": 88,
   "metadata": {},
   "outputs": [
    {
     "name": "stdout",
     "output_type": "stream",
     "text": [
      "Model saved successfully to /Users/venu/Documents/Productivity/Pytorch Tutorials/Attention is All You Need Paper Replication/transformer_translation.pth\n"
     ]
    }
   ],
   "source": [
    "# saving the model \n",
    "model_save_dir = '/Users/venu/Documents/Productivity/Pytorch Tutorials/Attention is All You Need Paper Replication'\n",
    "os.makedirs(model_save_dir, exist_ok=True)  # Create the directory if it doesn't exist\n",
    "model_save_path = os.path.join(model_save_dir, \"transformer_translation.pth\")\n",
    "\n",
    "# saving the model's state dictionary\n",
    "torch.save(trained_model.state_dict(), model_save_path)\n",
    "\n",
    "print(f\"Model saved successfully to {model_save_path}\")"
   ]
  },
  {
   "cell_type": "code",
   "execution_count": 91,
   "metadata": {},
   "outputs": [
    {
     "data": {
      "text/plain": [
       "([1.9499499928798376, 0.29838514361648977, 0.15464750548213654],\n",
       " [0.631019651889801, 0.1143794059753418, 0.07344788312911987],\n",
       " [0.631019651889801, 0.1143794059753418, 0.07344788312911987])"
      ]
     },
     "execution_count": 91,
     "metadata": {},
     "output_type": "execute_result"
    }
   ],
   "source": [
    "# metrics\n",
    "epoch_losses = training_metrics[\"epoch_losses\"]\n",
    "hindi_losses = training_metrics[\"language_specific_loss\"][\"hindi\"]\n",
    "telugu_losses = training_metrics[\"language_specific_loss\"][\"telugu\"]\n",
    "epoch_losses, hindi_losses, telugu_losses"
   ]
  },
  {
   "cell_type": "code",
   "execution_count": 95,
   "metadata": {},
   "outputs": [
    {
     "data": {
      "image/png": "[encoded data removed]",
      "text/plain": [
       "<Figure size 600x600 with 1 Axes>"
      ]
     },
     "metadata": {},
     "output_type": "display_data"
    }
   ],
   "source": [
    "# Create figure for visualization\n",
    "plt.figure(figsize=(6, 6))\n",
    "\n",
    "# Plot overall epoch loss\n",
    "plt.plot(range(1, len(epoch_losses) + 1), epoch_losses, label=\"Training Loss\", marker='o')\n",
    "plt.title(\"Overall Training Loss per Epoch\")\n",
    "plt.xlabel(\"Epoch\")\n",
    "plt.ylabel(\"Loss\")\n",
    "plt.grid(True)\n",
    "plt.legend()\n",
    "\n",
    "\n",
    "# Show plots\n",
    "plt.tight_layout()\n",
    "plt.show()"
   ]
  },
  {
   "cell_type": "code",
   "execution_count": 96,
   "metadata": {},
   "outputs": [
    {
     "data": {
      "image/png": "[encoded data removed]",
      "text/plain": [
       "<Figure size 800x600 with 1 Axes>"
      ]
     },
     "metadata": {},
     "output_type": "display_data"
    }
   ],
   "source": [
    "hindi_losses = training_metrics[\"language_specific_loss\"][\"hindi\"]\n",
    "\n",
    "plt.figure(figsize=(8, 6))\n",
    "plt.plot(range(1, len(hindi_losses) + 1), hindi_losses, marker='o', color='blue')\n",
    "plt.title(\"Hindi-Specific Loss per Epoch\")\n",
    "plt.xlabel(\"Epoch\")\n",
    "plt.ylabel(\"Loss\")\n",
    "plt.grid(True)\n",
    "plt.show()"
   ]
  },
  {
   "cell_type": "code",
   "execution_count": 97,
   "metadata": {},
   "outputs": [
    {
     "data": {
      "image/png": "[encoded data removed]",
      "text/plain": [
       "<Figure size 800x600 with 1 Axes>"
      ]
     },
     "metadata": {},
     "output_type": "display_data"
    }
   ],
   "source": [
    "telugu_losses = training_metrics[\"language_specific_loss\"][\"telugu\"]\n",
    "\n",
    "plt.figure(figsize=(8, 6))\n",
    "plt.plot(range(1, len(telugu_losses) + 1), telugu_losses, marker='s', color='orange')\n",
    "plt.title(\"Telugu-Specific Loss per Epoch\")\n",
    "plt.xlabel(\"Epoch\")\n",
    "plt.ylabel(\"Loss\")\n",
    "plt.grid(True)\n",
    "plt.show()"
   ]
  },
  {
   "cell_type": "code",
   "execution_count": 98,
   "metadata": {},
   "outputs": [
    {
     "data": {
      "image/png": "[encoded data removed]",
      "text/plain": [
       "<Figure size 800x600 with 1 Axes>"
      ]
     },
     "metadata": {},
     "output_type": "display_data"
    }
   ],
   "source": [
    "plt.figure(figsize=(8, 6))\n",
    "\n",
    "if hindi_losses:\n",
    "    plt.plot(range(1, len(hindi_losses) + 1), hindi_losses, label=\"Hindi Loss\", marker='o', color='blue')\n",
    "\n",
    "if telugu_losses:\n",
    "    plt.plot(range(1, len(telugu_losses) + 1), telugu_losses, label=\"Telugu Loss\", marker='s', color='orange')\n",
    "\n",
    "plt.title(\"Language-Specific Loss per Epoch\")\n",
    "plt.xlabel(\"Epoch\")\n",
    "plt.ylabel(\"Loss\")\n",
    "plt.grid(True)\n",
    "plt.legend()\n",
    "plt.show()"
   ]
  },
  {
   "cell_type": "code",
   "execution_count": null,
   "metadata": {},
   "outputs": [],
   "source": []
  },
  {
   "cell_type": "markdown",
   "metadata": {},
   "source": [
    "### Inferencing"
   ]
  },
  {
   "cell_type": "code",
   "execution_count": 269,
   "metadata": {},
   "outputs": [],
   "source": [
    "source_sentence = \"we are checking the model performance performance language.\"\n",
    "source_tokens = tokenizer(source_sentence, return_tensors=\"pt\", padding= True, truncation= True, max_length= max_seq_length)\n",
    "target_language = \"hindi\""
   ]
  },
  {
   "cell_type": "code",
   "execution_count": 270,
   "metadata": {},
   "outputs": [],
   "source": [
    "language_tokens = {\n",
    "    \"hindi\":\"<_hi_>\",\n",
    "    \"telugu\":\"<_te_>\"\n",
    "}\n",
    "target_lang_token = language_tokens[target_language]"
   ]
  },
  {
   "cell_type": "code",
   "execution_count": 271,
   "metadata": {},
   "outputs": [],
   "source": [
    "# def infer_translation(\n",
    "#     source_sentence, \n",
    "#     target_language, \n",
    "#     tokenizer, \n",
    "#     model, \n",
    "#     max_seq_length, \n",
    "#     device, \n",
    "#     eos_token_id=None, \n",
    "#     pad_token_id=None, \n",
    "#     k=5\n",
    "# ):\n",
    "#     \"\"\"\n",
    "#     Function to translate a given source sentence into the target language.\n",
    "#     Args:\n",
    "#         source_sentence (str): The source sentence to be translated.\n",
    "#         target_language (str): The target language (e.g., \"hindi\", \"telugu\").\n",
    "#         tokenizer (AutoTokenizer): The tokenizer used for encoding/decoding.\n",
    "#         model (nn.Module): The trained transformer model.\n",
    "#         max_seq_length (int): Maximum sequence length for decoding.\n",
    "#         device (str): Device for inference ('cuda' or 'cpu').\n",
    "#         eos_token_id (int, optional): Token ID for the end-of-sentence token.\n",
    "#         pad_token_id (int, optional): Padding token ID.\n",
    "#         k (int): Top-K value for sampling.\n",
    "#     Returns:\n",
    "#         str: The translated sentence.\n",
    "#     \"\"\"\n",
    "#     # Prepare language-specific token\n",
    "#     language_tokens = {\"hindi\": \"<_hi_>\", \"telugu\": \"<_te_>\"}\n",
    "#     target_lang_token = language_tokens[target_language]\n",
    "    \n",
    "#     # Encode the source sentence and target language token\n",
    "#     encoder_input_ids = tokenizer.encode(source_sentence, return_tensors=\"pt\").to(device)\n",
    "#     decoder_input_ids = tokenizer.encode(target_lang_token, return_tensors=\"pt\").to(device)  # Start with lang token\n",
    "    \n",
    "#     # Initialize attention masks\n",
    "#     encoder_attention_mask = torch.ones_like(encoder_input_ids).to(device)  # Assuming no padding in input\n",
    "#     translated_tokens = []\n",
    "\n",
    "#     # Precompute the full look-ahead mask for decoder (self-attention)\n",
    "#     full_mask = torch.triu(torch.ones((max_seq_length, max_seq_length), device=device), diagonal=1)\n",
    "\n",
    "#     # Switch to eval mode\n",
    "#     model.eval()\n",
    "\n",
    "#     with torch.no_grad():\n",
    "#         for step in range(max_seq_length):  # Generate tokens up to max_seq_length\n",
    "#             current_seq_length = decoder_input_ids.size(1)\n",
    "            \n",
    "#             # Ensure the decoder sequence length does not exceed max_seq_length\n",
    "#             if current_seq_length > max_seq_length:\n",
    "#                 break\n",
    "            \n",
    "#             # Slice the full mask for current sequence length (self-attention)\n",
    "#             decoder_attention_mask = full_mask[:current_seq_length, :current_seq_length].unsqueeze(0)\n",
    "            \n",
    "#             # Cross-attention mask (align with encoder input length)\n",
    "#             cross_attention_mask = encoder_attention_mask.unsqueeze(1).expand(-1, current_seq_length, -1)\n",
    "            \n",
    "#             # Generate the next token\n",
    "#             decoder_output = model(\n",
    "#                 encoder_input_ids=encoder_input_ids,\n",
    "#                 decoder_input_ids=decoder_input_ids,\n",
    "#                 encoder_attention_mask=encoder_attention_mask,\n",
    "#                 decoder_self_attention_mask=decoder_attention_mask,\n",
    "#                 cross_attention_mask=cross_attention_mask,\n",
    "#             )\n",
    "\n",
    "#             # Get logits for the last token in the sequence\n",
    "#             decoder_output.shape\n",
    "#             logits = decoder_output[:, -1, :]\n",
    "            \n",
    "#             # Apply top-k sampling\n",
    "#             next_token_id = top_k_sampling(logits, k)\n",
    "            \n",
    "#             # Append predicted token to decoder_input_ids\n",
    "#             decoder_input_ids = torch.cat([decoder_input_ids, next_token_id.unsqueeze(0)], dim=1)\n",
    "#             translated_tokens.append(next_token_id.item())\n",
    "            \n",
    "#             # Stop if EOS token is predicted\n",
    "#             if next_token_id.item() == eos_token_id:\n",
    "#                 print(\"End token detected. Stopping generation.\")\n",
    "#                 break\n",
    "\n",
    "#     # Decode the translated tokens\n",
    "#     translated_sentence = tokenizer.decode(translated_tokens, skip_special_tokens=True)\n",
    "#     return translated_sentence"
   ]
  },
  {
   "cell_type": "code",
   "execution_count": 272,
   "metadata": {},
   "outputs": [
    {
     "data": {
      "text/plain": [
       "{'hindi': 119547, 'telugu': 119548}"
      ]
     },
     "execution_count": 272,
     "metadata": {},
     "output_type": "execute_result"
    }
   ],
   "source": [
    "# Get the token ids for language tokens\n",
    "lang_token_ids = {lang:tokenizer.convert_tokens_to_ids(token) for lang, token in language_tokens.items()}\n",
    "lang_token_ids"
   ]
  },
  {
   "cell_type": "code",
   "execution_count": 273,
   "metadata": {},
   "outputs": [
    {
     "data": {
      "text/plain": [
       "{'input_ids': tensor([[  101, 11951, 10301, 43662, 10230, 10105, 13192, 14432, 14432, 13702,\n",
       "           119,   102]]), 'token_type_ids': tensor([[0, 0, 0, 0, 0, 0, 0, 0, 0, 0, 0, 0]]), 'attention_mask': tensor([[1, 1, 1, 1, 1, 1, 1, 1, 1, 1, 1, 1]])}"
      ]
     },
     "execution_count": 273,
     "metadata": {},
     "output_type": "execute_result"
    }
   ],
   "source": [
    "source_tokens"
   ]
  },
  {
   "cell_type": "code",
   "execution_count": 274,
   "metadata": {},
   "outputs": [],
   "source": [
    "# Define the target language token\n",
    "language_token_id = lang_token_ids[target_language]\n",
    "\n",
    "# Initialize decoder input with the target language token and start token\n",
    "decoder_input_ids = torch.tensor([[tokenizer.cls_token_id, language_token_id]], device=device) #[<start>, <te>]"
   ]
  },
  {
   "cell_type": "code",
   "execution_count": 275,
   "metadata": {},
   "outputs": [],
   "source": [
    "input_tokens = tokenizer(\n",
    "    text=[source_sentence],\n",
    "    padding=\"max_length\",\n",
    "    truncation=True,\n",
    "    max_length=max_seq_length,\n",
    "    return_tensors=\"pt\"\n",
    ")\n",
    "encoder_input_ids = input_tokens[\"input_ids\"].to(device)\n",
    "encoder_attention_mask = input_tokens[\"attention_mask\"].to(device)"
   ]
  },
  {
   "cell_type": "code",
   "execution_count": 276,
   "metadata": {},
   "outputs": [],
   "source": [
    "def top_k_sampling(logits, k):\n",
    "    # Get the top k probabilities and their indices\n",
    "    top_k_probs, top_k_indices = torch.topk(logits, k, dim=-1)\n",
    "    \n",
    "    # Convert to probabilities\n",
    "    top_k_probs = torch.softmax(top_k_probs, dim=-1)\n",
    "    \n",
    "    # Sample from the top k tokens\n",
    "    next_token_id = torch.multinomial(top_k_probs, num_samples=1)\n",
    "    \n",
    "    # Map sampled token index back to original token indices\n",
    "    next_token_id = top_k_indices.gather(dim=-1, index=next_token_id)\n",
    "    \n",
    "    return next_token_id"
   ]
  },
  {
   "cell_type": "code",
   "execution_count": 277,
   "metadata": {},
   "outputs": [],
   "source": [
    "translated_tokens = []\n",
    "\n",
    "# Precompute the full look-ahead mask for decoder (self-attention)\n",
    "full_mask = torch.triu(torch.ones((max_seq_length, max_seq_length), device=device), diagonal=1)\n",
    "\n",
    "with torch.no_grad():\n",
    "    for _ in range(max_seq_length):  # Loop for max_seq_length\n",
    "        current_seq_length = decoder_input_ids.size(1)\n",
    "        \n",
    "        # Ensure the decoder sequence length does not exceed max_seq_length\n",
    "        if current_seq_length > max_seq_length:\n",
    "            break  # Prevent infinite loop\n",
    "        \n",
    "        # Slice the full mask for current sequence length (self-attention)\n",
    "        decoder_attention_mask = full_mask[:current_seq_length, :current_seq_length].unsqueeze(0)\n",
    "        \n",
    "        # Cross-attention mask (match encoder input length)\n",
    "        cross_attention_mask = encoder_attention_mask.unsqueeze(1).expand(-1, current_seq_length, -1)\n",
    "        \n",
    "        # Generate the next token\n",
    "        decoder_output = transformer_model(\n",
    "            encoder_input_ids=encoder_input_ids,\n",
    "            decoder_input_ids=decoder_input_ids,\n",
    "            encoder_attention_mask=encoder_attention_mask,\n",
    "            decoder_self_attention_mask=decoder_attention_mask,\n",
    "            cross_attention_mask=cross_attention_mask,\n",
    "        )\n",
    "\n",
    "        # Get the logits for the last token in the sequence\n",
    "        logits = decoder_output[:, -1, :]\n",
    "        \n",
    "        # Apply top-k sampling during token generation\n",
    "        #k = 5 \n",
    "        next_token_id = torch.argmax(logits, dim=-1)\n",
    "        \n",
    "        # Append predicted token to decoder_input_ids\n",
    "        decoder_input_ids = torch.cat([decoder_input_ids, next_token_id.unsqueeze(-1)], dim=1)\n",
    "        translated_tokens.append(next_token_id.item())\n",
    "        \n",
    "        # Stop if end token is predicted\n",
    "        if next_token_id.item() == tokenizer.sep_token_id or len(translated_tokens) >= max_seq_length:\n",
    "            print(\"End token detected. Stopping generation.\")\n",
    "            break"
   ]
  },
  {
   "cell_type": "code",
   "execution_count": 278,
   "metadata": {},
   "outputs": [
    {
     "name": "stdout",
     "output_type": "stream",
     "text": [
      "Decoded Tokens: [118, 118, 118, 118, 118, 118, 118, 118, 118, 118, 118, 118, 118, 118, 118, 118, 118, 118, 118, 118, 118, 118, 118, 118, 118, 118, 118, 118, 118, 118, 118, 118, 118, 118, 118, 118, 118, 118, 118, 118, 118, 118, 118, 118, 118, 118, 118, 118, 118, 118, 118, 118, 118, 118, 118, 118, 118, 118, 118, 118, 118, 118, 118, 118, 118, 118, 118, 118, 118, 118, 118, 118, 118, 118, 118, 118, 118, 118, 118, 118, 118, 118, 118, 118, 118, 118, 118, 118, 118, 118, 118, 118, 118, 118, 118, 118, 118, 118, 118, 118, 118, 118, 118, 118, 118, 118, 118, 118, 118, 118, 118, 118, 118, 118, 118, 118, 118, 118, 118, 118, 118, 118, 118, 118, 118, 118, 118, 118, 118, 118, 118, 118, 118, 118, 118, 118, 118, 118, 118, 118, 118, 118, 118, 118, 118, 118, 118, 118, 118, 118, 118, 118, 118, 118, 118, 118, 118, 118, 118, 118, 118, 118, 118, 118, 118, 118, 118, 118, 118, 118, 118, 118, 118, 118, 118, 118, 118, 118, 118, 118, 118, 118, 118, 118, 118, 118, 118, 118, 118, 118, 118, 118, 118, 118, 118, 118, 118, 118, 118, 118, 118, 118, 118, 118, 118, 118, 118, 118, 118, 118, 118, 118, 118, 118, 118, 118, 118, 118, 118, 118, 118, 118, 118, 118, 118, 118, 118, 118, 118, 118, 118, 118, 118, 118, 118, 118, 118, 118, 118, 118, 118, 118, 118, 118, 118, 118, 118, 118, 118, 118, 118, 118, 118, 118, 118, 118, 118, 118, 118, 118, 118, 118, 118, 118, 118, 118, 118, 118, 118, 118, 118, 118, 118, 118, 118, 118, 118, 118, 118, 118, 118, 118, 118, 118, 118, 118, 118, 118, 118, 118, 118, 118, 118, 118, 118, 118, 118, 118, 118]\n",
      "Generated Text: - - - - - - - - - - - - - - - - - - - - - - - - - - - - - - - - - - - - - - - - - - - - - - - - - - - - - - - - - - - - - - - - - - - - - - - - - - - - - - - - - - - - - - - - - - - - - - - - - - - - - - - - - - - - - - - - - - - - - - - - - - - - - - - - - - - - - - - - - - - - - - - - - - - - - - - - - - - - - - - - - - - - - - - - - - - - - - - - - - - - - - - - - - - - - - - - - - - - - - - - - - - - - - - - - - - - - - - - - - - - - - - - - - - - - - - - - - - - - - - - - - - - - - - - - - - - - - - - - - - - - - - - - - - - - - - - - - - - - - - - - - - - - - - - - - - - - - - - - - -\n",
      "Translated Tokens: [118, 118, 118, 118, 118, 118, 118, 118, 118, 118, 118, 118, 118, 118, 118, 118, 118, 118, 118, 118, 118, 118, 118, 118, 118, 118, 118, 118, 118, 118, 118, 118, 118, 118, 118, 118, 118, 118, 118, 118, 118, 118, 118, 118, 118, 118, 118, 118, 118, 118, 118, 118, 118, 118, 118, 118, 118, 118, 118, 118, 118, 118, 118, 118, 118, 118, 118, 118, 118, 118, 118, 118, 118, 118, 118, 118, 118, 118, 118, 118, 118, 118, 118, 118, 118, 118, 118, 118, 118, 118, 118, 118, 118, 118, 118, 118, 118, 118, 118, 118, 118, 118, 118, 118, 118, 118, 118, 118, 118, 118, 118, 118, 118, 118, 118, 118, 118, 118, 118, 118, 118, 118, 118, 118, 118, 118, 118, 118, 118, 118, 118, 118, 118, 118, 118, 118, 118, 118, 118, 118, 118, 118, 118, 118, 118, 118, 118, 118, 118, 118, 118, 118, 118, 118, 118, 118, 118, 118, 118, 118, 118, 118, 118, 118, 118, 118, 118, 118, 118, 118, 118, 118, 118, 118, 118, 118, 118, 118, 118, 118, 118, 118, 118, 118, 118, 118, 118, 118, 118, 118, 118, 118, 118, 118, 118, 118, 118, 118, 118, 118, 118, 118, 118, 118, 118, 118, 118, 118, 118, 118, 118, 118, 118, 118, 118, 118, 118, 118, 118, 118, 118, 118, 118, 118, 118, 118, 118, 118, 118, 118, 118, 118, 118, 118, 118, 118, 118, 118, 118, 118, 118, 118, 118, 118, 118, 118, 118, 118, 118, 118, 118, 118, 118, 118, 118, 118, 118, 118, 118, 118, 118, 118, 118, 118, 118, 118, 118, 118, 118, 118, 118, 118, 118, 118, 118, 118, 118, 118, 118, 118, 118, 118, 118, 118, 118, 118, 118, 118, 118, 118, 118, 118, 118, 118, 118, 118, 118, 118, 118]\n",
      "Translated Text: - - - - - - - - - - - - - - - - - - - - - - - - - - - - - - - - - - - - - - - - - - - - - - - - - - - - - - - - - - - - - - - - - - - - - - - - - - - - - - - - - - - - - - - - - - - - - - - - - - - - - - - - - - - - - - - - - - - - - - - - - - - - - - - - - - - - - - - - - - - - - - - - - - - - - - - - - - - - - - - - - - - - - - - - - - - - - - - - - - - - - - - - - - - - - - - - - - - - - - - - - - - - - - - - - - - - - - - - - - - - - - - - - - - - - - - - - - - - - - - - - - - - - - - - - - - - - - - - - - - - - - - - - - - - - - - - - - - - - - - - - - - - - - - - - - - - - - - - - - -\n"
     ]
    }
   ],
   "source": [
    "translated_text = tokenizer.decode(translated_tokens, skip_special_tokens=True)\n",
    "print(f\"Decoded Tokens: {translated_tokens}\")\n",
    "print(f\"Generated Text: {translated_text}\")\n",
    "print(\"Translated Tokens:\", translated_tokens)\n",
    "print(\"Translated Text:\", translated_text)"
   ]
  },
  {
   "cell_type": "code",
   "execution_count": null,
   "metadata": {},
   "outputs": [],
   "source": []
  },
  {
   "cell_type": "code",
   "execution_count": null,
   "metadata": {},
   "outputs": [],
   "source": []
  },
  {
   "cell_type": "code",
   "execution_count": null,
   "metadata": {},
   "outputs": [],
   "source": []
  }
 ],
 "metadata": {
  "kernelspec": {
   "display_name": "base",
   "language": "python",
   "name": "python3"
  },
  "language_info": {
   "codemirror_mode": {
    "name": "ipython",
    "version": 3
   },
   "file_extension": ".py",
   "mimetype": "text/x-python",
   "name": "python",
   "nbconvert_exporter": "python",
   "pygments_lexer": "ipython3",
   "version": "3.12.7"
  }
 },
 "nbformat": 4,
 "nbformat_minor": 2
}
